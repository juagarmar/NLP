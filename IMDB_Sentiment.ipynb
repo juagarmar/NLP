{
  "nbformat": 4,
  "nbformat_minor": 0,
  "metadata": {
    "colab": {
      "provenance": [],
      "authorship_tag": "ABX9TyPfyxyJts3btYW6vmsnvH4u",
      "include_colab_link": true
    },
    "kernelspec": {
      "name": "python3",
      "display_name": "Python 3"
    },
    "language_info": {
      "name": "python"
    }
  },
  "cells": [
    {
      "cell_type": "markdown",
      "metadata": {
        "id": "view-in-github",
        "colab_type": "text"
      },
      "source": [
        "<a href=\"https://colab.research.google.com/github/juagarmar/NLP/blob/main/IMDB_Sentiment.ipynb\" target=\"_parent\"><img src=\"https://colab.research.google.com/assets/colab-badge.svg\" alt=\"Open In Colab\"/></a>"
      ]
    },
    {
      "cell_type": "code",
      "execution_count": 1,
      "metadata": {
        "id": "Vmjm4a6lfTF8"
      },
      "outputs": [],
      "source": [
        "import numpy as np\n",
        "import tensorflow as tf\n",
        "from tensorflow.keras.models import Sequential\n",
        "from tensorflow.keras.layers import Dense, Embedding, GlobalAveragePooling1D\n",
        "from tensorflow.keras.preprocessing.sequence import pad_sequences\n",
        "from tensorflow.keras.datasets import imdb"
      ]
    },
    {
      "cell_type": "code",
      "source": [
        "# Set the number of words to keep\n",
        "vocab_size = 10000\n",
        "\n",
        "# Load the IMDB dataset\n",
        "(train_data, train_labels), (test_data, test_labels) = imdb.load_data(num_words=vocab_size)"
      ],
      "metadata": {
        "id": "Xxbe-WuqfZ0R"
      },
      "execution_count": 2,
      "outputs": []
    },
    {
      "cell_type": "code",
      "source": [
        "# Padding sequences to ensure uniform input size\n",
        "max_length = 256\n",
        "train_data = pad_sequences(train_data, maxlen=max_length, padding='post')\n",
        "test_data = pad_sequences(test_data, maxlen=max_length, padding='post')"
      ],
      "metadata": {
        "id": "KU5BbLsefwez"
      },
      "execution_count": 7,
      "outputs": []
    },
    {
      "cell_type": "code",
      "source": [
        "# Build the model\n",
        "model = Sequential([\n",
        "    Embedding(vocab_size, 16, input_length=max_length),\n",
        "    GlobalAveragePooling1D(),\n",
        "    Dense(16, activation='relu'),\n",
        "    #Dense(8, activation='relu'),\n",
        "    Dense(1, activation='sigmoid')\n",
        "])\n",
        "\n",
        "# Compile the model\n",
        "model.compile(optimizer='adam',\n",
        "              loss='binary_crossentropy',\n",
        "              metrics=['accuracy'])\n",
        "\n",
        "# Model summary\n",
        "model.summary()\n"
      ],
      "metadata": {
        "colab": {
          "base_uri": "https://localhost:8080/"
        },
        "id": "WFRqK_P-fdx7",
        "outputId": "3e98977c-e003-40f7-9167-430ce2881add"
      },
      "execution_count": 16,
      "outputs": [
        {
          "output_type": "stream",
          "name": "stdout",
          "text": [
            "Model: \"sequential_2\"\n",
            "_________________________________________________________________\n",
            " Layer (type)                Output Shape              Param #   \n",
            "=================================================================\n",
            " embedding_2 (Embedding)     (None, 256, 16)           160000    \n",
            "                                                                 \n",
            " global_average_pooling1d_2  (None, 16)                0         \n",
            "  (GlobalAveragePooling1D)                                       \n",
            "                                                                 \n",
            " dense_4 (Dense)             (None, 16)                272       \n",
            "                                                                 \n",
            " dense_5 (Dense)             (None, 8)                 136       \n",
            "                                                                 \n",
            " dense_6 (Dense)             (None, 1)                 9         \n",
            "                                                                 \n",
            "=================================================================\n",
            "Total params: 160417 (626.63 KB)\n",
            "Trainable params: 160417 (626.63 KB)\n",
            "Non-trainable params: 0 (0.00 Byte)\n",
            "_________________________________________________________________\n"
          ]
        }
      ]
    },
    {
      "cell_type": "code",
      "source": [
        "# Train the model\n",
        "epochs = 10\n",
        "history = model.fit(train_data, train_labels,\n",
        "                    epochs=epochs,\n",
        "                    validation_data=(test_data, test_labels),\n",
        "                    verbose=2)\n"
      ],
      "metadata": {
        "colab": {
          "base_uri": "https://localhost:8080/"
        },
        "id": "QAd7UI8xfjoI",
        "outputId": "c2b6a152-0a3c-4697-f007-9a3d976dc1d0"
      },
      "execution_count": 17,
      "outputs": [
        {
          "output_type": "stream",
          "name": "stdout",
          "text": [
            "Epoch 1/10\n",
            "782/782 - 8s - loss: 0.4753 - accuracy: 0.7676 - val_loss: 0.2977 - val_accuracy: 0.8785 - 8s/epoch - 11ms/step\n",
            "Epoch 2/10\n",
            "782/782 - 5s - loss: 0.2345 - accuracy: 0.9087 - val_loss: 0.2859 - val_accuracy: 0.8842 - 5s/epoch - 6ms/step\n",
            "Epoch 3/10\n",
            "782/782 - 6s - loss: 0.1841 - accuracy: 0.9315 - val_loss: 0.2935 - val_accuracy: 0.8815 - 6s/epoch - 7ms/step\n",
            "Epoch 4/10\n",
            "782/782 - 5s - loss: 0.1524 - accuracy: 0.9456 - val_loss: 0.3206 - val_accuracy: 0.8766 - 5s/epoch - 6ms/step\n",
            "Epoch 5/10\n",
            "782/782 - 4s - loss: 0.1269 - accuracy: 0.9567 - val_loss: 0.3621 - val_accuracy: 0.8669 - 4s/epoch - 6ms/step\n",
            "Epoch 6/10\n",
            "782/782 - 6s - loss: 0.1075 - accuracy: 0.9650 - val_loss: 0.3928 - val_accuracy: 0.8648 - 6s/epoch - 8ms/step\n",
            "Epoch 7/10\n",
            "782/782 - 4s - loss: 0.0955 - accuracy: 0.9692 - val_loss: 0.4311 - val_accuracy: 0.8590 - 4s/epoch - 6ms/step\n",
            "Epoch 8/10\n",
            "782/782 - 6s - loss: 0.0818 - accuracy: 0.9738 - val_loss: 0.4755 - val_accuracy: 0.8557 - 6s/epoch - 7ms/step\n",
            "Epoch 9/10\n",
            "782/782 - 5s - loss: 0.0721 - accuracy: 0.9782 - val_loss: 0.5067 - val_accuracy: 0.8550 - 5s/epoch - 6ms/step\n",
            "Epoch 10/10\n",
            "782/782 - 5s - loss: 0.0603 - accuracy: 0.9836 - val_loss: 0.5487 - val_accuracy: 0.8500 - 5s/epoch - 6ms/step\n"
          ]
        }
      ]
    },
    {
      "cell_type": "code",
      "source": [
        "# Evaluate the model\n",
        "loss, accuracy = model.evaluate(test_data, test_labels)\n",
        "print(\"Loss: \", loss)\n",
        "print(\"Accuracy: \", accuracy)\n"
      ],
      "metadata": {
        "colab": {
          "base_uri": "https://localhost:8080/"
        },
        "id": "veXiHHd_fkik",
        "outputId": "eff4b90d-64e8-4705-9948-750b069b9413"
      },
      "execution_count": 18,
      "outputs": [
        {
          "output_type": "stream",
          "name": "stdout",
          "text": [
            "782/782 [==============================] - 1s 2ms/step - loss: 0.5487 - accuracy: 0.8500\n",
            "Loss:  0.548712968826294\n",
            "Accuracy:  0.8499600291252136\n"
          ]
        }
      ]
    },
    {
      "cell_type": "code",
      "source": [],
      "metadata": {
        "id": "8yy11IkIhu0H"
      },
      "execution_count": null,
      "outputs": []
    }
  ]
}