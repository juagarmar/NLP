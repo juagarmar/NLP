{
  "nbformat": 4,
  "nbformat_minor": 0,
  "metadata": {
    "colab": {
      "provenance": [],
      "authorship_tag": "ABX9TyOMA5TeBpl5A9aU/r6avhs9",
      "include_colab_link": true
    },
    "kernelspec": {
      "name": "python3",
      "display_name": "Python 3"
    },
    "language_info": {
      "name": "python"
    }
  },
  "cells": [
    {
      "cell_type": "markdown",
      "metadata": {
        "id": "view-in-github",
        "colab_type": "text"
      },
      "source": [
        "<a href=\"https://colab.research.google.com/github/juagarmar/NLP/blob/main/news_subset_classifier.ipynb\" target=\"_parent\"><img src=\"https://colab.research.google.com/assets/colab-badge.svg\" alt=\"Open In Colab\"/></a>"
      ]
    },
    {
      "cell_type": "code",
      "execution_count": 7,
      "metadata": {
        "id": "W8_qijBmgSqW"
      },
      "outputs": [],
      "source": [
        "import os\n",
        "import tensorflow as tf\n",
        "import tensorflow_datasets as tfds\n",
        "from tensorflow.keras.callbacks import EarlyStopping, ModelCheckpoint\n",
        "from tensorflow.keras.layers import Embedding, GlobalAvgPool1D, Dense\n",
        "from tensorflow.keras.preprocessing.text import Tokenizer\n",
        "from tensorflow.keras.preprocessing.sequence import pad_sequences\n",
        "import numpy as np\n",
        "#from history import plot_history, save_history\n",
        "os.environ['TF_CPP_MIN_LOG_LEVEL'] = '2'"
      ]
    },
    {
      "cell_type": "code",
      "source": [
        "def retrieve_data():\n",
        "    (ag_news_train, ag_news_test), info = tfds.load('ag_news_subset', split=['train', 'test'], with_info=True)\n",
        "    return ag_news_train, ag_news_test, info"
      ],
      "metadata": {
        "id": "fwTZfhkfhJXC"
      },
      "execution_count": 16,
      "outputs": []
    },
    {
      "cell_type": "code",
      "source": [
        "def split_features_labels(dataset):\n",
        "    features = []\n",
        "    labels = []\n",
        "    for ex in dataset:\n",
        "        features.append(ex['title'].numpy())\n",
        "        labels.append(ex['label'].numpy())\n",
        "    features = np.array([x.decode('utf-8') for x in features])\n",
        "    labels = np.array([float(x) for x in labels])\n",
        "    return features, labels"
      ],
      "metadata": {
        "id": "tyC5-swohv9E"
      },
      "execution_count": 17,
      "outputs": []
    },
    {
      "cell_type": "code",
      "source": [
        "def wrangle_data(tokenizer, features, seq_length):\n",
        "    tokens = tokenizer.texts_to_sequences(features)\n",
        "    features_padded = pad_sequences(tokens, maxlen=seq_length,\n",
        "                                    padding='post', truncating='post')\n",
        "    return np.array(features_padded), tokens"
      ],
      "metadata": {
        "id": "ZWh3NgDphwAU"
      },
      "execution_count": 18,
      "outputs": []
    },
    {
      "cell_type": "code",
      "source": [
        "def dnn_model(word_dim, embedding_dim, seq_length):\n",
        "    new_model = tf.keras.Sequential([\n",
        "        Embedding(word_dim, embedding_dim, input_length=seq_length),\n",
        "        GlobalAvgPool1D(),\n",
        "        Dense(32, activation='relu'),\n",
        "        Dense(4, activation='softmax')\n",
        "    ])\n",
        "    return compile_model(new_model)"
      ],
      "metadata": {
        "id": "EcfrYyWFhwDK"
      },
      "execution_count": 19,
      "outputs": []
    },
    {
      "cell_type": "code",
      "source": [
        "def compile_model(new_model):\n",
        "    new_model.compile(optimizer='adam', loss='sparse_categorical_crossentropy', metrics=['accuracy'])\n",
        "    print(new_model.summary())\n",
        "    return new_model"
      ],
      "metadata": {
        "id": "DhCn6iR5hwF6"
      },
      "execution_count": 20,
      "outputs": []
    },
    {
      "cell_type": "code",
      "source": [
        "def save_model(model, name, history, test_data, test_labels):\n",
        "    test_loss, test_acc = model.evaluate(test_data, test_labels)\n",
        "\n",
        "    # Save model information\n",
        "    save_name = f'models/news/{name}-{len(history.epoch):02d}-{test_acc:0.4f}'\n",
        "    model.save(f'{save_name}.h5')\n",
        "\n",
        "    # Save history information\n",
        "    #save_history(history, save_name)"
      ],
      "metadata": {
        "id": "-ReMkdMoiP4i"
      },
      "execution_count": 21,
      "outputs": []
    },
    {
      "cell_type": "code",
      "source": [
        "if __name__ == '__main__':\n",
        "    train_ds, test_ds, ds_info = retrieve_data()\n",
        "\n",
        "    train_titles, train_labels = split_features_labels(train_ds)\n",
        "    test_titles, test_labels = split_features_labels(test_ds)\n",
        "\n",
        "    word_dimension = 7000\n",
        "    sequence_length = 24\n",
        "\n",
        "    tokenizer = Tokenizer(num_words=word_dimension, oov_token='~~~')\n",
        "    tokenizer.fit_on_texts(train_titles)\n",
        "\n",
        "    train_data, train_tokens = wrangle_data(tokenizer, train_titles, sequence_length)\n",
        "    test_data, test_tokens = wrangle_data(tokenizer, test_titles, sequence_length)\n",
        "\n",
        "    model_name = 'dnn'\n",
        "    embedding_dimension = 9\n",
        "\n",
        "    earlystop = EarlyStopping('val_loss', patience=3, restore_best_weights=True)\n",
        "    checkpoint = ModelCheckpoint(filepath=f'ckpts/news/{model_name}/' + '{epoch:02d}-{val_accuracy:.4f}')\n",
        "\n",
        "    model = dnn_model(word_dimension, embedding_dimension, sequence_length)\n",
        "    history = model.fit(train_data, train_labels, validation_split=0.1, batch_size=64, epochs=25,\n",
        "                           callbacks=[earlystop, checkpoint])\n",
        "\n",
        "    #save_model(model, model_name, history, test_data, test_labels)"
      ],
      "metadata": {
        "colab": {
          "base_uri": "https://localhost:8080/"
        },
        "id": "Uibe_jDshSqT",
        "outputId": "7579e217-c769-48c3-bc3b-344cfc1824ad"
      },
      "execution_count": 22,
      "outputs": [
        {
          "output_type": "stream",
          "name": "stdout",
          "text": [
            "Model: \"sequential_2\"\n",
            "_________________________________________________________________\n",
            " Layer (type)                Output Shape              Param #   \n",
            "=================================================================\n",
            " embedding_2 (Embedding)     (None, 24, 9)             63000     \n",
            "                                                                 \n",
            " global_average_pooling1d_2  (None, 9)                 0         \n",
            "  (GlobalAveragePooling1D)                                       \n",
            "                                                                 \n",
            " dense_4 (Dense)             (None, 32)                320       \n",
            "                                                                 \n",
            " dense_5 (Dense)             (None, 4)                 132       \n",
            "                                                                 \n",
            "=================================================================\n",
            "Total params: 63452 (247.86 KB)\n",
            "Trainable params: 63452 (247.86 KB)\n",
            "Non-trainable params: 0 (0.00 Byte)\n",
            "_________________________________________________________________\n",
            "None\n",
            "Epoch 1/25\n",
            "1688/1688 [==============================] - 8s 4ms/step - loss: 0.7809 - accuracy: 0.7335 - val_loss: 0.4814 - val_accuracy: 0.8408\n",
            "Epoch 2/25\n",
            "1688/1688 [==============================] - 6s 3ms/step - loss: 0.4113 - accuracy: 0.8599 - val_loss: 0.4234 - val_accuracy: 0.8560\n",
            "Epoch 3/25\n",
            "1688/1688 [==============================] - 6s 4ms/step - loss: 0.3571 - accuracy: 0.8752 - val_loss: 0.4056 - val_accuracy: 0.8602\n",
            "Epoch 4/25\n",
            "1688/1688 [==============================] - 6s 4ms/step - loss: 0.3321 - accuracy: 0.8831 - val_loss: 0.4016 - val_accuracy: 0.8597\n",
            "Epoch 5/25\n",
            "1688/1688 [==============================] - 6s 3ms/step - loss: 0.3179 - accuracy: 0.8870 - val_loss: 0.4029 - val_accuracy: 0.8593\n",
            "Epoch 6/25\n",
            "1688/1688 [==============================] - 7s 4ms/step - loss: 0.3082 - accuracy: 0.8894 - val_loss: 0.4103 - val_accuracy: 0.8587\n",
            "Epoch 7/25\n",
            "1688/1688 [==============================] - 6s 3ms/step - loss: 0.3016 - accuracy: 0.8913 - val_loss: 0.4095 - val_accuracy: 0.8577\n"
          ]
        }
      ]
    },
    {
      "cell_type": "code",
      "source": [],
      "metadata": {
        "colab": {
          "base_uri": "https://localhost:8080/"
        },
        "id": "wrW2WuHOhTw8",
        "outputId": "ce60a542-e927-4d66-ad4b-c150a63f4355"
      },
      "execution_count": 6,
      "outputs": [
        {
          "output_type": "execute_result",
          "data": {
            "text/plain": [
              "<_PrefetchDataset element_spec={'description': TensorSpec(shape=(), dtype=tf.string, name=None), 'label': TensorSpec(shape=(), dtype=tf.int64, name=None), 'title': TensorSpec(shape=(), dtype=tf.string, name=None)}>"
            ]
          },
          "metadata": {},
          "execution_count": 6
        }
      ]
    },
    {
      "cell_type": "code",
      "source": [],
      "metadata": {
        "id": "dBa0AwnlhsTg"
      },
      "execution_count": null,
      "outputs": []
    }
  ]
}