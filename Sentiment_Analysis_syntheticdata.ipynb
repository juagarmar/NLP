{
  "nbformat": 4,
  "nbformat_minor": 0,
  "metadata": {
    "colab": {
      "provenance": [],
      "authorship_tag": "ABX9TyNVetI6XBEaRNGbxhlQXFmP",
      "include_colab_link": true
    },
    "kernelspec": {
      "name": "python3",
      "display_name": "Python 3"
    },
    "language_info": {
      "name": "python"
    }
  },
  "cells": [
    {
      "cell_type": "markdown",
      "metadata": {
        "id": "view-in-github",
        "colab_type": "text"
      },
      "source": [
        "<a href=\"https://colab.research.google.com/github/juagarmar/NLP/blob/main/Sentiment_Analysis_syntheticdata.ipynb\" target=\"_parent\"><img src=\"https://colab.research.google.com/assets/colab-badge.svg\" alt=\"Open In Colab\"/></a>"
      ]
    },
    {
      "cell_type": "code",
      "execution_count": 3,
      "metadata": {
        "id": "f9f0t-5x6mU4"
      },
      "outputs": [],
      "source": [
        "import numpy as np\n",
        "import pandas as pd\n",
        "import tensorflow as tf\n",
        "from tensorflow import keras\n",
        "import matplotlib.pyplot as plt\n",
        "import os"
      ]
    },
    {
      "cell_type": "code",
      "source": [
        "from tensorflow.keras.preprocessing.text import Tokenizer\n",
        "from tensorflow.keras.preprocessing.sequence import pad_sequences"
      ],
      "metadata": {
        "id": "2DNRuFps68lg"
      },
      "execution_count": 4,
      "outputs": []
    },
    {
      "cell_type": "code",
      "source": [
        "df=pd.read_csv('/content/reviews.csv', encoding='unicode_escape')"
      ],
      "metadata": {
        "id": "Tg018KfS7D18"
      },
      "execution_count": 6,
      "outputs": []
    },
    {
      "source": [
        "# @title sentiment\n",
        "\n",
        "from matplotlib import pyplot as plt\n",
        "import seaborn as sns\n",
        "df.groupby('sentiment').size().plot(kind='barh', color=sns.palettes.mpl_palette('Dark2'))\n",
        "plt.gca().spines[['top', 'right',]].set_visible(Falsegg)"
      ],
      "cell_type": "code",
      "execution_count": 7,
      "outputs": [
        {
          "output_type": "error",
          "ename": "NameError",
          "evalue": "name 'Falsegg' is not defined",
          "traceback": [
            "\u001b[0;31m---------------------------------------------------------------------------\u001b[0m",
            "\u001b[0;31mNameError\u001b[0m                                 Traceback (most recent call last)",
            "\u001b[0;32m<ipython-input-7-cd42a2c70298>\u001b[0m in \u001b[0;36m<cell line: 6>\u001b[0;34m()\u001b[0m\n\u001b[1;32m      4\u001b[0m \u001b[0;32mimport\u001b[0m \u001b[0mseaborn\u001b[0m \u001b[0;32mas\u001b[0m \u001b[0msns\u001b[0m\u001b[0;34m\u001b[0m\u001b[0;34m\u001b[0m\u001b[0m\n\u001b[1;32m      5\u001b[0m \u001b[0mdf\u001b[0m\u001b[0;34m.\u001b[0m\u001b[0mgroupby\u001b[0m\u001b[0;34m(\u001b[0m\u001b[0;34m'sentiment'\u001b[0m\u001b[0;34m)\u001b[0m\u001b[0;34m.\u001b[0m\u001b[0msize\u001b[0m\u001b[0;34m(\u001b[0m\u001b[0;34m)\u001b[0m\u001b[0;34m.\u001b[0m\u001b[0mplot\u001b[0m\u001b[0;34m(\u001b[0m\u001b[0mkind\u001b[0m\u001b[0;34m=\u001b[0m\u001b[0;34m'barh'\u001b[0m\u001b[0;34m,\u001b[0m \u001b[0mcolor\u001b[0m\u001b[0;34m=\u001b[0m\u001b[0msns\u001b[0m\u001b[0;34m.\u001b[0m\u001b[0mpalettes\u001b[0m\u001b[0;34m.\u001b[0m\u001b[0mmpl_palette\u001b[0m\u001b[0;34m(\u001b[0m\u001b[0;34m'Dark2'\u001b[0m\u001b[0;34m)\u001b[0m\u001b[0;34m)\u001b[0m\u001b[0;34m\u001b[0m\u001b[0;34m\u001b[0m\u001b[0m\n\u001b[0;32m----> 6\u001b[0;31m \u001b[0mplt\u001b[0m\u001b[0;34m.\u001b[0m\u001b[0mgca\u001b[0m\u001b[0;34m(\u001b[0m\u001b[0;34m)\u001b[0m\u001b[0;34m.\u001b[0m\u001b[0mspines\u001b[0m\u001b[0;34m[\u001b[0m\u001b[0;34m[\u001b[0m\u001b[0;34m'top'\u001b[0m\u001b[0;34m,\u001b[0m \u001b[0;34m'right'\u001b[0m\u001b[0;34m,\u001b[0m\u001b[0;34m]\u001b[0m\u001b[0;34m]\u001b[0m\u001b[0;34m.\u001b[0m\u001b[0mset_visible\u001b[0m\u001b[0;34m(\u001b[0m\u001b[0mFalsegg\u001b[0m\u001b[0;34m)\u001b[0m\u001b[0;34m\u001b[0m\u001b[0;34m\u001b[0m\u001b[0m\n\u001b[0m",
            "\u001b[0;31mNameError\u001b[0m: name 'Falsegg' is not defined"
          ]
        },
        {
          "output_type": "display_data",
          "data": {
            "text/plain": [
              "<Figure size 640x480 with 1 Axes>"
            ],
            "image/png": "[encoded data removed]"
          },
          "metadata": {}
        }
      ],
      "metadata": {
        "colab": {
          "base_uri": "https://localhost:8080/",
          "height": 596
        },
        "id": "NWLJJoOzAlWu",
        "outputId": "d6b27de3-1380-4be3-ca01-32453012532b"
      }
    },
    {
      "cell_type": "code",
      "source": [
        "# Define the function to remove \"@\" mentions from a string\n",
        "def remove_mention(text):\n",
        "    # Check if the text is a string\n",
        "    if isinstance(text, str):\n",
        "        # Split the text into words and filter out any word that starts with '@'\n",
        "        msg = [word for word in text.split() if not word.startswith('@')]\n",
        "        # Join the filtered words back into a single string\n",
        "        return ' '.join(msg)\n",
        "    else:\n",
        "        # If the text is not a string, return it as is or handle it as you see fit\n",
        "        return text  # or return '' or return 'placeholder'\n",
        "\n",
        "\n",
        "# Apply the function to the 'text' column in the DataFrame\n",
        "df['text'] = df['text'].apply(remove_mention)\n",
        "#print(df_simple)"
      ],
      "metadata": {
        "id": "0e_94x-N_Ksq"
      },
      "execution_count": 8,
      "outputs": []
    },
    {
      "cell_type": "code",
      "source": [
        "# Characters\n",
        "import re\n",
        "def remove_unnecessary_characters(text):\n",
        "    text = re.sub(r'<.*?>', '', str(text))\n",
        "    text = re.sub(r'[^a-zA-Z0-9\\s]', '', str(text))\n",
        "    text = re.sub(r'\\s+', ' ', str(text)).strip()\n",
        "    return text\n",
        "df['text'] = df['text'].apply(remove_unnecessary_characters)"
      ],
      "metadata": {
        "id": "ukNcQnznB4gF"
      },
      "execution_count": 9,
      "outputs": []
    },
    {
      "cell_type": "code",
      "source": [
        "from tensorflow.keras.preprocessing.text import Tokenizer\n",
        "\n",
        "# Define the maximum number of words to keep\n",
        "max_words = 300\n",
        "\n",
        "# Initialize the tokenizer with a max number of words\n",
        "tokenizer = Tokenizer(num_words=max_words)\n",
        "\n",
        "# Fit the tokenizer on the texts\n",
        "tokenizer.fit_on_texts(df['text'])\n",
        "\n",
        "# Convert text to sequences of integers\n",
        "sequences = tokenizer.texts_to_sequences(df['text'])\n",
        "\n",
        "# Output the results to see the tokenized sequences\n",
        "print(sequences)"
      ],
      "metadata": {
        "colab": {
          "base_uri": "https://localhost:8080/"
        },
        "id": "itlHZ30SCFFf",
        "outputId": "d5793e53-1425-48e6-c491-18e903522210"
      },
      "execution_count": 10,
      "outputs": [
        {
          "output_type": "stream",
          "name": "stdout",
          "text": [
            "[[1, 13, 194, 140, 70], [240, 72, 20, 63, 106, 10, 95], [241, 35, 29, 10, 30], [66, 92, 87, 153, 223, 95, 47, 4, 164, 116], [67, 66, 13, 242], [1, 73, 31, 68, 52, 130, 106, 10, 72, 195, 63], [9, 2, 48, 36, 35], [29, 173, 196, 165, 2, 38, 66, 13], [106, 10, 95, 4, 13, 32, 9, 141], [166, 35, 106, 10, 72, 195, 63], [13, 19, 43, 21, 10, 56, 1, 64], [88, 8, 1, 35, 48, 36], [10, 53, 61, 53, 2, 39, 154, 9, 174, 88], [243, 95, 116, 10, 74], [89, 13, 71, 197], [48, 36, 35, 28, 1, 64], [54, 13, 21, 10, 56, 1], [65, 48, 50], [155, 88, 8, 1, 13], [10, 1, 40, 31, 68, 130, 156, 33, 40], [13, 19, 43, 71, 12, 142], [10, 167, 21, 10, 58, 244], [38, 37, 36, 21, 5, 32], [89, 35, 71, 197], [54, 13, 21, 71, 12, 142], [32, 43, 21, 2, 48, 50, 47, 4, 164], [48, 36, 28, 1, 64], [10, 1, 73, 21, 107, 10, 1, 40], [245, 32, 43, 2, 284], [71, 21, 5, 123, 1, 93, 143], [61, 13, 56, 1, 64], [96, 8, 16, 31, 29, 95, 116], [58, 35, 75, 16, 55], [74, 8, 1, 13, 29, 30], [51, 57, 8, 16, 31, 58, 175], [107, 56, 1, 63, 198, 35, 13], [61, 95, 29, 31, 116], [168, 8, 1, 65, 16, 176], [13, 96, 8, 16, 31], [62, 30, 4, 13, 101, 35], [131, 13, 80, 37, 112], [67, 108, 4, 13, 75, 16, 55], [1, 40, 31, 68, 130, 56, 81, 157], [177, 35, 29, 173, 5, 196, 165, 2, 38], [82, 13, 62, 74], [97, 13, 80, 285, 28, 50], [20, 1, 35, 56, 81], [76, 13, 80, 37, 112], [117, 57, 8, 4, 31, 101], [98, 13, 29, 30, 12], [13, 246, 30, 169], [67, 132, 75, 59, 55], [286, 35, 56, 81, 157], [247, 98, 13, 90, 199], [40, 31, 68, 52, 130, 80, 37, 112], [177, 35, 29, 173, 5, 196, 165, 2, 38], [76, 13, 80, 37, 50, 168], [117, 57, 8, 4, 31, 101, 13], [98, 35, 29, 30, 12], [73, 13, 52], [287, 95, 5], [240, 72], [166, 35], [223, 116], [144], [10, 56, 5], [241, 200], [66, 31], [88], [13], [99, 89], [10, 58], [38, 37, 36], [245], [248], [10, 74], [48, 50], [224], [29, 10, 30], [32, 170], [10, 167], [54, 169], [35], [61, 169], [178, 170], [99, 43], [28, 1, 64], [170, 28], [], [288, 61], [74], [58], [107, 30], [36, 102, 48], [56, 5], [5], [96, 92], [98, 35], [75, 55], [97, 87], [13], [62, 30], [145, 61], [101, 35], [67, 108], [80, 37, 112], [144, 61], [83, 225], [117, 98], [82, 13], [177, 35], [40, 31, 52], [67, 97], [98, 200], [80, 37, 50, 57], [56, 5], [132, 87], [1, 13, 118, 201, 3, 1, 92, 87, 19, 12, 16, 249, 2, 153, 223, 95, 47, 4, 146, 116], [1, 133, 19, 3, 1, 34, 2, 26, 46, 88, 8, 4, 31, 3, 153, 37, 5], [1, 35, 20, 1, 13, 7, 46, 2, 29, 10, 30, 4, 12, 77, 100, 28, 9, 124, 3, 289, 109], [1, 13, 113, 10, 16, 55, 33, 59, 5, 19, 10, 56, 1, 64, 2, 3, 2, 158, 134, 5], [2, 26, 46, 250, 8, 1, 65, 20, 4, 13, 5, 202, 10, 125, 53, 3, 2, 179, 2, 16, 63], [1, 92, 87, 290, 34, 3, 291, 2, 153, 10, 37, 8, 4, 146, 116, 27, 1], [1, 126, 19, 3, 1, 13, 19, 201, 2, 26, 51, 88, 8, 1, 251, 20, 180, 203, 27, 133], [1, 13, 194, 140, 292, 9, 147, 293, 2, 26, 46, 8, 1, 35, 3, 251, 20], [2, 204, 1, 294, 109, 3, 5, 295, 12, 181, 9, 2, 26, 46, 250, 8, 1, 92, 87, 20, 4, 146], [1, 13, 113, 10, 125, 53, 48, 3, 19, 9, 72, 20, 63, 2, 26, 46, 88, 8, 4, 31, 3, 153, 10, 37, 134, 47, 4, 146, 116], [1, 13, 19, 205, 21, 1, 126, 19, 2, 39, 226, 55, 28, 1, 110, 252], [1, 35, 20, 1, 13, 19, 89, 5, 182, 16, 176, 21, 113, 10, 16, 55], [1, 92, 87, 19, 12, 21, 16, 206, 2, 29, 41, 253, 9, 296], [1, 133, 19, 201, 21, 1, 13, 19, 2, 26, 207, 88, 27, 1, 251, 20, 180, 203, 254, 110], [2, 39, 9, 147, 183, 8, 1, 13, 21, 135, 5, 182, 16, 176, 2, 29, 255, 134, 47, 4, 146, 116], [1, 126, 19, 102, 48, 21, 1, 13, 118, 27, 61, 159, 2, 19, 297, 28, 9, 296, 110, 78], [1, 13, 19, 21, 1, 35, 19, 2, 29, 41, 9, 226, 20, 114, 27], [1, 92, 87, 19, 21, 10, 51, 298, 2, 29, 41, 253, 50, 27, 256, 16, 206], [1, 13, 118, 8, 9, 147, 21, 71, 257, 2, 26, 207, 88, 27, 1, 251, 20, 180, 203, 27, 133], [1, 13, 19, 61, 21, 10, 58, 5, 182, 16, 55, 21, 113, 10, 148, 27, 136, 208], [1, 13, 19, 54, 21, 71, 76, 2, 29, 255, 299, 47, 4, 146, 116, 27, 1], [1, 92, 87, 19, 89, 21, 38, 41, 115, 50, 2, 39, 12, 102, 48, 28, 9], [1, 133, 19, 207, 201, 21, 1, 13, 19, 2, 29, 41, 36, 180, 203, 254, 110], [1, 126, 19, 103, 78, 21, 38, 41, 115, 2, 19, 297, 28, 9, 296, 110, 78, 12, 16, 176], [1, 35, 20, 1, 13, 19, 89, 5, 182, 16, 176, 21, 38, 41, 115, 36, 27, 20, 3, 65], [1, 13, 19, 43, 21, 10, 82, 5, 113, 1, 93, 21, 19, 10, 76, 27, 136, 208], [2, 39, 9, 147, 183, 8, 1, 13, 21, 71, 257, 5, 182, 16, 55, 135, 21, 38, 41, 115, 184, 27, 227], [1, 92, 87, 19, 205, 21, 10, 76, 2, 29, 41, 253, 9, 226, 149, 20, 180, 3, 12], [1, 13, 118, 27, 61, 159, 3, 182, 16, 55, 2, 19, 57, 8, 1, 35, 3, 65, 20, 1, 109], [1, 133, 19, 209, 3, 1, 13, 19, 2, 39, 104, 183, 8, 1, 126, 210, 159, 20, 1, 109], [1, 126, 19, 228, 3, 1, 13, 118, 103, 78, 2, 19, 168, 8, 1, 110, 252, 3, 20, 1, 146], [1, 35, 20, 1, 13, 75, 16, 55, 5, 19, 3, 289, 185, 171, 2, 19, 100, 28, 27, 91, 109], [1, 92, 87, 19, 3, 298, 27, 256, 16, 206, 2, 253, 1, 229, 3, 12, 16], [1, 13, 19, 97, 3, 75, 16, 55, 5, 19, 185, 171, 2, 19, 100, 28, 3, 2, 26, 46, 57, 8, 16, 31], [2, 39, 9, 58, 200, 8, 4, 146, 1, 92, 87, 19, 131, 3, 1, 13, 19, 185, 171, 2], [1, 13, 118, 27, 83, 159, 3, 19, 185, 53, 2, 39, 104, 183, 8, 1, 35, 210, 65, 20, 1, 109], [1, 133, 19, 209, 3, 1, 13, 118, 27, 58, 159, 2, 19, 74, 8, 1, 180, 203, 27, 110, 3, 1, 109], [1, 126, 19, 228, 3, 127, 2, 204, 16, 109, 102, 48, 3, 19, 168, 8, 1, 229, 110, 78], [1, 35, 20, 1, 13, 19, 82, 5, 75, 16, 55, 3, 2, 29, 62, 30, 5, 12], [1, 92, 87, 19, 76, 1, 290, 34, 3, 298, 27, 256, 16, 206, 27, 9], [1, 133, 19, 209, 3, 2, 39, 104, 142, 1, 13, 201, 254, 110], [1, 126, 19, 229, 3, 127, 2, 204, 16, 109, 103, 78, 3, 19, 168, 8, 1, 228, 110, 252], [1, 13, 75, 16, 55, 27, 20, 35, 3, 65, 5, 19, 185, 171, 2, 19, 100, 28, 3, 2, 26, 46, 57, 8, 16, 31], [2, 39, 91, 131, 200, 8, 4, 146, 1, 92, 87, 19, 101, 3, 1, 13, 19, 185, 171, 2], [1, 13, 118, 27, 83, 159, 3, 19, 36, 102, 2, 39, 104, 183, 8, 1, 35, 210, 65, 20, 1, 109], [1, 133, 19, 209, 3, 1, 13, 118, 27, 159, 2, 19, 74, 8, 1, 180, 203, 27, 1, 126], [1, 126, 19, 228, 3, 127, 2, 204, 16, 109, 102, 48, 3, 19, 168, 8, 1, 229, 110, 78], [1, 35, 20, 1, 13, 19, 76, 5, 258, 75, 16, 55, 3, 2, 29, 62, 30, 5, 12], [1, 92, 87, 19, 82, 1, 290, 3, 117, 12, 90, 8, 16, 206, 27, 9, 3], [1, 133, 19, 209, 3, 2, 39, 141, 27, 1, 20, 1, 13, 254, 110], [1, 126, 19, 229, 3, 127, 2, 204, 16, 109, 103, 78, 3, 19, 74, 8, 1, 228, 110, 252], [1, 13, 59, 20, 16, 55, 5, 19, 185, 171, 2, 19, 100, 28, 3, 2, 26, 46, 57, 8, 16, 31], [2, 39, 9, 132, 200, 8, 4, 146, 1, 92, 87, 19, 76, 3, 1, 13, 75, 16], [1, 13, 118, 27, 211, 159, 3, 19, 36, 102, 2, 39, 104, 142, 1, 35, 210, 65, 20, 1, 109], [1, 133, 19, 209, 3, 1, 13, 118, 27, 159, 2, 19, 160, 1, 12, 27, 110, 1, 109], [1, 126, 19, 3, 127, 2, 204, 16, 109, 102, 3, 19, 128, 8, 1, 110, 78], [14, 6, 24, 66, 15, 287, 49, 25, 136, 22, 33, 59], [72, 20, 63, 80, 137, 33, 59, 8, 14, 6], [1, 73, 6, 68, 52, 114, 119, 49, 25, 136, 22, 3, 34, 51, 150], [29, 10, 30, 14, 6, 15, 119, 49, 25, 136, 22, 3, 25, 186], [1, 73, 6, 68, 52, 259, 120, 260, 33, 44, 25, 22], [14, 6, 24, 166, 15, 16, 60, 3, 119, 49, 25, 136, 22], [62, 88, 8, 14, 6, 15, 119, 261, 90, 137, 33, 59], [106, 10, 95, 14, 6, 15, 24, 260, 3, 150, 12, 45], [1, 73, 6, 68, 52, 113, 10, 49, 25, 136, 22, 3, 34, 51, 150, 12, 45], [29, 173, 14, 6, 196, 165, 2, 38, 67, 66], [54, 35, 6, 21, 38, 37, 50, 79, 33, 44, 25, 22], [89, 6, 15, 34, 43, 21, 119, 49, 25, 53, 22, 53, 2, 29, 41], [43, 6, 15, 34, 155, 79, 33, 44, 25, 22, 21, 38, 37, 36], [6, 34, 99, 43, 15, 121, 9, 230, 174, 8, 44, 25, 22, 21, 38, 37, 184], [207, 88, 8, 14, 6, 15, 119, 49, 25, 22, 53, 111, 53, 2, 39, 154], [6, 34, 89, 15, 43, 21, 119, 120, 49, 25, 22], [48, 50, 47, 14, 6, 15, 34, 54, 21, 10, 53, 79, 53, 2, 39, 154], [54, 6, 15, 34, 43, 33, 44, 25, 22, 21, 38, 37, 184], [6, 113, 1, 93, 21, 38, 41, 115, 50, 79, 33, 44, 25, 22], [10, 1, 40, 6, 68, 114, 15, 34, 43, 21, 38, 41, 115, 36, 33, 44, 25, 22], [6, 34, 43, 15, 121, 9, 230, 174, 8, 44, 25, 22, 21, 38, 37, 36], [14, 6, 24, 43, 15, 125, 33, 44, 25, 22, 21, 38, 37, 184], [155, 57, 8, 14, 6, 15, 121, 9, 230, 174, 8, 44, 25, 22], [6, 34, 54, 15, 43, 21, 38, 41, 115, 50, 79], [89, 6, 15, 34, 43, 21, 38, 41, 115, 36, 33, 44, 25, 22], [207, 88, 8, 14, 6, 15, 34, 43, 21, 10, 53, 79, 53, 2, 39, 154], [6, 34, 99, 43, 15, 121, 9, 230, 174, 8, 44, 25, 22, 21, 38, 37, 184], [48, 50, 47, 14, 6, 15, 34, 43, 21, 10, 53, 79, 53, 2, 39, 154], [54, 6, 15, 34, 43, 33, 44, 25, 22, 21, 38, 41, 115, 36], [6, 113, 1, 93, 21, 38, 41, 115, 50, 79, 33, 44, 25, 22], [10, 1, 40, 6, 68, 114, 15, 34, 43, 21, 38, 41, 115, 36, 33, 44, 25, 22], [6, 34, 43, 15, 121, 9, 230, 174, 8, 44, 25, 22, 21, 38, 37, 36], [14, 6, 24, 79, 33, 44, 25, 22, 107, 121, 90, 137, 36], [51, 57, 8, 14, 6, 15, 49, 25, 22, 3, 24, 42, 12, 45], [14, 6, 24, 58, 15, 49, 25, 22, 51, 111, 3, 24, 42, 12, 45], [62, 30, 14, 6, 15, 24, 51, 79, 33, 44, 25, 22], [14, 6, 24, 97, 15, 49, 25, 22, 120, 3, 24, 51, 42, 12, 45], [40, 6, 68, 52, 114, 15, 120, 49, 25, 22, 3, 24, 51, 42, 12, 45], [2, 26, 46, 96, 8, 14, 6, 15, 125, 145, 111, 33, 44, 25, 22], [101, 6, 15, 125, 33, 44, 25, 22, 3, 24, 42, 12, 45], [80, 37, 112, 8, 14, 6, 15, 49, 25, 22, 3, 24, 51, 42, 12, 45], [14, 6, 24, 79, 33, 44, 25, 22, 107, 121, 90, 137, 36], [51, 57, 8, 14, 6, 15, 49, 25, 22, 3, 24, 42, 12, 45], [14, 6, 24, 58, 15, 49, 25, 22, 51, 111, 3, 24, 42, 12, 45], [62, 30, 14, 6, 15, 24, 51, 79, 33, 44, 25, 22], [14, 6, 24, 97, 15, 49, 25, 22, 120, 3, 24, 51, 42, 12, 45], [40, 6, 68, 52, 114, 15, 120, 49, 25, 22, 3, 24, 51, 42, 12, 45], [2, 26, 46, 96, 8, 14, 6, 15, 125, 145, 111, 33, 44, 25, 22], [101, 6, 15, 125, 33, 44, 25, 22, 3, 24, 42, 12, 45], [80, 37, 112, 8, 14, 6, 15, 49, 25, 22, 3, 24, 51, 42, 12, 45], [14, 6, 24, 98, 15, 49, 25, 22, 120, 3, 24, 46, 42, 12, 45], [67, 108, 14, 6, 15, 125, 33, 44, 25, 22, 3, 24, 51, 42, 12, 45], [40, 6, 68, 52, 114, 15, 49, 25, 22, 120, 3, 24, 46, 42, 12, 45], [2, 26, 128, 8, 14, 6, 15, 125, 145, 111, 33, 44, 25, 22, 3, 24, 51, 42, 12, 45], [14, 6, 24, 101, 15, 49, 25, 22, 120, 3, 24, 46, 42, 12, 45], [80, 37, 112, 8, 14, 6, 15, 49, 25, 22, 3, 24, 46, 42, 12, 45], [14, 6, 24, 9, 15, 120, 49, 25, 22, 3, 24, 1, 172, 42, 6, 68, 52], [62, 30, 14, 6, 15, 24, 97, 33, 44, 25, 22, 3, 24, 51, 42, 12, 45], [14, 6, 24, 98, 15, 49, 25, 22, 120, 3, 24, 46, 42, 12, 45], [14, 6, 24, 66], [14, 6, 113, 10, 125], [73, 6, 52], [2, 14, 6], [166, 6, 72, 20, 63], [14, 6, 24], [2, 137, 8, 14, 6], [6, 24, 150], [2, 158, 134, 14, 6], [241, 6, 106, 10, 95], [6, 24, 43, 10, 58], [10, 1, 40, 6], [6, 24, 99, 89], [2, 48, 36, 6], [14, 6, 24, 245], [54, 6, 71, 197], [6, 24, 248], [68, 39, 36, 6], [6, 24, 156], [10, 74, 8, 14, 6], [6, 24, 170, 10, 98], [14, 6, 24, 10, 167], [6, 24], [38, 37, 36, 6], [10, 1, 73, 6], [14, 6, 24], [6, 24], [43, 6, 10, 58], [6, 24], [155, 54, 6], [10, 66, 6], [2, 108, 14, 6], [1, 40, 6, 52], [14, 6, 24, 98], [2, 137, 14, 6], [6], [6, 24, 97], [14, 6, 24, 9], [62, 30, 14, 6], [6, 24, 177], [40, 27, 6], [2, 179, 14, 6], [6, 24, 61], [54, 6], [14, 6, 106, 1, 93], [6, 24, 170], [6, 24, 262], [71, 294, 8, 14, 6], [6, 24, 42], [96, 8, 14, 6], [6, 24, 205], [58, 6, 56, 5], [62, 30, 14, 6], [14, 6, 24, 101], [6, 24, 131], [1, 40, 6, 68, 52, 114], [177, 6, 95], [2, 137, 14, 6], [6], [6, 24, 187], [40, 6, 103, 1, 188], [1, 6, 34, 46, 150, 12, 45, 15, 25, 20, 16, 60, 231, 1, 122, 3, 2, 80, 181, 136, 137], [2, 212, 14, 6, 12, 37, 51, 260, 33, 44, 25, 22, 2, 38, 232, 103, 263, 90], [1, 35, 20, 14, 6, 7, 15, 3, 107, 10, 56, 1, 63], [14, 6, 189, 190, 27, 16, 60, 148, 3, 1, 2, 153, 10, 37, 148, 116], [2, 19, 46, 88, 8, 14, 6, 15, 113, 71, 12, 261, 90, 137, 36, 9, 72, 20, 16, 78, 3, 63], [1, 213, 20, 14, 6, 19, 59, 294, 15, 34, 3, 25, 2, 80, 181, 148, 12, 264, 27, 104, 171, 2, 259], [14, 6, 113, 10, 49, 25, 136, 22, 33, 59, 2, 38, 232, 53, 165, 2, 148, 51, 224], [1, 214, 20, 14, 6, 7, 150, 16, 5, 189, 190, 3, 130, 5, 28, 90, 12], [2, 39, 198, 28, 14, 6, 21, 15, 129, 9, 141, 15, 94, 104, 47, 1, 22, 9, 72, 20, 63], [14, 6, 24, 1, 73, 68, 52, 259, 15, 24, 150, 260, 3, 9, 141, 72, 20, 63, 2, 29, 10, 30, 148, 12, 77], [1, 6, 34, 155, 150, 12, 45, 15, 119, 264, 27, 16, 60, 51, 111, 21, 15, 113, 261, 49, 25, 227, 22], [14, 6, 34, 54, 33, 44, 25, 22, 15, 34, 207, 150, 12, 45, 28, 233, 20, 78], [2, 212, 14, 6, 12, 37, 155, 79, 33, 44, 25, 22, 15, 34, 9, 174, 150, 27, 16, 60], [1, 35, 20, 14, 6, 7, 156, 15, 24, 10, 1, 40, 2, 41, 259, 21, 15, 181, 1, 93, 143, 12, 227], [14, 6, 189, 9, 190, 27, 16, 60, 71, 21, 169, 12, 37, 2, 153, 12, 70, 148], [2, 19, 155, 88, 8, 14, 6, 15, 119, 1, 149, 20, 22, 69, 2, 19, 297, 28, 21, 15, 34, 36, 102, 71], [1, 213, 20, 14, 6, 19, 54, 15, 138, 27, 16, 60, 28, 1, 172, 21, 15, 113, 12, 25], [14, 6, 94, 227, 22, 69, 10, 53, 53, 2, 29, 41, 15, 34, 36, 102, 71, 33, 59], [1, 214, 20, 14, 6, 7, 43, 10, 1, 172, 42, 21, 28, 20, 70, 135, 91, 89, 13], [2, 39, 55, 28, 14, 6, 3, 15, 182, 148, 15, 34, 36, 102, 71, 21, 10, 1, 40, 103, 1, 188], [1, 6, 34, 42, 12, 45, 15, 138, 27, 16, 60, 59, 122, 3, 121, 90, 49, 25, 172, 20, 1, 22, 9, 54, 13], [14, 6, 34, 79, 33, 44, 25, 22, 15, 34, 105, 12, 265, 3, 138, 27, 16, 60, 231, 1, 122, 2, 19, 168, 8, 1, 266], [2, 212, 14, 6, 12, 37, 155, 42, 15, 119, 16, 60, 3, 94, 9, 54, 149, 20, 22, 69, 135, 9, 61, 31], [1, 35, 20, 14, 6, 7, 54, 15, 24, 10, 1, 172, 267, 21, 15, 181, 1, 93, 143, 3, 24, 56, 1, 64], [14, 6, 189, 190, 27, 16, 60, 3, 113, 10, 16, 137, 2, 26, 57, 8, 268, 65], [2, 19, 155, 57, 8, 14, 6, 15, 94, 22, 69, 3, 34, 42, 12, 45, 9, 61, 175, 28, 1, 64], [1, 213, 20, 14, 6, 19, 61, 15, 138, 27, 16, 60, 269, 3, 121, 90, 49, 25, 1, 20, 22, 9, 124, 13], [14, 6, 270, 9, 54, 149, 20, 22, 69, 10, 83, 21, 79, 169, 28, 90, 12, 181, 9, 61, 137, 2, 26, 96, 8, 16, 31], [1, 214, 20, 14, 6, 7, 205, 15, 24, 42, 12, 45, 28, 233, 20, 78, 135, 9, 54, 13, 28, 1, 64], [2, 39, 55, 28, 14, 6, 21, 15, 90, 15, 271, 36, 102, 2, 9, 225, 28, 22, 69], [1, 6, 34, 42, 15, 138, 27, 16, 60, 59, 122, 3, 121, 90, 49, 25, 172, 20, 1, 22, 9, 58, 13], [14, 6, 34, 62, 79, 33, 44, 25, 22, 15, 34, 105, 12, 265, 3, 138, 27, 16, 60, 231, 1, 122, 2, 19, 128, 8, 1, 266], [2, 212, 14, 6, 12, 37, 51, 42, 15, 119, 16, 60, 3, 94, 9, 198, 149, 20, 22, 69, 135, 91, 131, 31], [1, 35, 20, 14, 6, 7, 82, 15, 24, 289, 3, 79, 33, 44, 25, 22, 107, 56, 1], [14, 6, 189, 104, 190, 27, 16, 60, 15, 34, 42, 12, 45, 3, 94, 131, 22, 69, 2, 26, 46, 57, 8, 268, 65], [2, 19, 62, 57, 8, 14, 6, 15, 94, 76, 22, 69, 3, 34, 42, 12, 45, 9, 58, 175, 28, 1, 64], [1, 213, 20, 14, 6, 19, 83, 15, 138, 27, 16, 60, 269, 59, 122, 3, 121, 90, 49, 25, 59, 22, 9, 101, 13], [14, 6, 270, 91, 82, 149, 20, 22, 69, 2, 80, 232, 191, 263, 90, 3, 59, 122, 2, 26, 128, 8, 16, 31], [1, 214, 20, 14, 6, 7, 101, 15, 24, 3, 42, 28, 233, 45, 135, 91, 76, 13, 28, 1, 64], [2, 39, 198, 55, 28, 14, 6, 3, 15, 75, 148, 15, 271, 3, 94, 272, 22, 69, 9, 97, 225], [1, 6, 34, 42, 3, 94, 58, 22, 69, 15, 34, 79, 3, 138, 27, 16, 60, 231, 1, 122, 9, 13], [14, 6, 34, 145, 79, 33, 44, 25, 22, 15, 34, 105, 12, 265, 3, 27, 16, 60, 59, 122, 2, 19, 8, 1, 266], [2, 212, 14, 6, 12, 37, 46, 42, 15, 119, 16, 60, 33, 59, 3, 94, 91, 76, 149, 20, 22, 69, 135, 9, 187, 31], [1, 35, 20, 14, 6, 7, 286, 15, 24, 3, 33, 44, 25, 22, 107, 56, 1, 64, 28, 1, 65], [14, 6, 189, 104, 190, 210, 27, 16, 60, 15, 34, 9, 12, 45, 3, 94, 187, 22, 69, 2, 26, 117, 57, 8, 268, 65], [2, 19, 67, 8, 14, 6, 15, 75, 59, 16, 55, 3, 94, 22, 69, 3, 9, 132, 175], [1, 213, 20, 14, 6, 19, 211, 15, 138, 27, 16, 60, 269, 3, 121, 90, 49, 25, 59, 22, 120, 91, 82, 13], [14, 6, 270, 91, 76, 149, 20, 22, 69, 2, 38, 10, 232, 191, 263, 90, 3, 59, 122, 2, 26, 273, 8, 16, 31], [1, 214, 20, 14, 6, 7, 15, 24, 3, 42, 28, 233, 45, 135, 91, 82, 13, 28, 1, 64], [2, 39, 46, 198, 55, 28, 14, 6, 3, 15, 15, 271, 3, 94, 22, 69, 91, 177, 225], [1, 6, 34, 42, 3, 94, 82, 22, 69, 15, 34, 79, 3, 138, 27, 16, 60, 231, 1, 122, 9, 211, 13], [14, 6, 34, 247, 79, 33, 44, 25, 22, 15, 34, 105, 12, 265, 3, 27, 16, 60, 59, 122, 2, 19, 273, 8, 1, 266], [2, 212, 14, 6, 12, 37, 247, 42, 15, 119, 16, 60, 33, 59, 3, 94, 91, 82, 149, 20, 22, 69, 135, 9, 83, 31], [1, 35, 20, 14, 6, 7, 272, 15, 24, 3, 33, 44, 25, 22, 107, 56, 1, 64, 28, 1, 76, 65], [14, 6, 189, 104, 190, 210, 27, 16, 60, 15, 34, 9, 12, 45, 3, 94, 76, 22, 69, 2, 26, 67, 128, 8, 268, 65], [2, 19, 67, 128, 8, 14, 6, 15, 75, 59, 16, 3, 94, 22, 69, 3, 9, 132, 175], [1, 213, 20, 14, 6, 19, 211, 15, 138, 27, 16, 60, 269, 3, 121, 90, 49, 25, 59, 22, 91, 82, 13], [14, 6, 270, 9, 76, 149, 20, 22, 69, 2, 38, 10, 232, 191, 263, 90, 3, 179, 9, 59, 122, 2, 26, 117, 273, 8, 16, 31], [1, 214, 20, 14, 6, 7, 15, 24, 3, 42, 28, 233, 45, 135, 91, 76, 13, 28, 1, 64], [2, 39, 145, 198, 55, 28, 14, 6, 3, 15, 258, 148, 15, 271, 3, 94, 22, 69, 91, 67, 97, 225], [4, 11, 17, 7, 1, 73, 5, 194, 140, 292, 9, 20, 70], [1, 11, 215, 160, 4, 17, 274, 66, 2, 158, 134, 5], [106, 10, 72, 195, 63, 103, 4, 11, 17, 5, 7, 130, 3, 202, 10, 125, 111], [2, 41, 39, 71, 21, 8, 4, 11, 17, 5, 186, 3, 216, 9], [4, 11, 17, 7, 9, 141, 72, 20, 63, 2, 29, 10, 30, 5, 12, 77], [66, 13, 106, 10, 95, 5, 234, 235, 140, 292, 9, 147, 242], [2, 26, 46, 88, 8, 4, 11, 17, 5, 7, 9, 240, 20], [1, 11, 47, 4, 17, 274, 3, 10, 56, 1, 64], [2, 2, 39, 223, 4, 11, 17, 5, 7, 9, 141, 72, 20, 63], [4, 11, 17, 7, 66, 5, 7, 236, 3, 12, 9], [2, 26, 10, 74, 8, 4, 11, 17, 5, 7, 156, 33, 40], [1, 11, 47, 4, 17, 7, 43, 21, 71, 197], [54, 11, 17, 28, 1, 64, 21, 2, 41, 39, 36], [2, 48, 50, 47, 4, 11, 17, 5, 7, 99, 89], [4, 11, 17, 7, 10, 53, 61, 53, 2, 39, 154, 2, 153, 37, 100, 28, 9], [2, 26, 10, 120, 57, 8, 4, 11, 17, 5, 38, 37, 36], [1, 11, 215, 160, 4, 17, 7, 10, 58, 21, 5, 7], [2, 41, 39, 227, 183, 8, 4, 11, 17, 5, 7, 10, 53, 124, 53, 2, 39, 154], [5, 7, 91, 43, 11, 17, 21, 151, 24, 36, 161], [1, 11, 47, 4, 17, 7, 21, 2, 29, 10, 30, 5, 12], [4, 11, 17, 7, 10, 53, 167, 53, 2, 48, 5, 123, 1, 93, 143], [54, 11, 17, 28, 1, 64, 2, 26, 57, 8, 16, 31], [2, 26, 8, 4, 11, 17, 5, 16, 176], [1, 11, 215, 160, 4, 17, 7, 54, 2, 41, 104, 249], [5, 7, 9, 54, 11, 17, 28, 1, 64, 2, 26, 96, 8, 16, 31], [2, 26, 43, 8, 4, 11, 17, 5, 7, 10, 1, 40, 21, 5, 178], [1, 11, 47, 4, 17, 7, 170, 2, 41, 104, 257, 183, 8, 5], [2, 26, 57, 8, 4, 11, 17, 5, 84, 9, 61, 139, 20, 11], [4, 11, 17, 7, 10, 83, 21, 5, 7, 61, 169, 28, 70], [5, 7, 9, 54, 11, 17, 2, 41, 104, 257, 249, 142, 5], [1, 11, 47, 4, 17, 7, 288, 61, 2, 26, 168, 8, 16, 31], [4, 11, 17, 7, 36, 102, 2, 48, 5, 84, 9, 58, 139, 20, 11], [2, 26, 74, 8, 4, 11, 17, 5, 75, 16, 55], [1, 11, 215, 160, 4, 17, 7, 131, 2, 62, 30, 5], [5, 7, 9, 97, 11, 17, 2, 108, 1, 208, 5, 84], [2, 26, 51, 57, 8, 4, 11, 17, 5, 7, 56, 81, 157], [1, 11, 47, 4, 17, 7, 217, 2, 12, 16, 139], [4, 11, 17, 7, 98, 5, 84, 1, 83, 139, 20, 11, 81, 78], [2, 26, 128, 8, 4, 11, 17, 5, 7, 1, 40, 2, 41, 52, 275], [5, 7, 9, 101, 11, 17, 2, 41, 104, 249, 142, 5], [1, 11, 47, 4, 17, 7, 82, 2, 26, 144, 96, 8, 16, 31], [4, 11, 17, 7, 9, 1, 2, 38, 10, 37, 112], [2, 26, 27, 108, 8, 4, 11, 17, 5, 216, 1, 40, 11, 2, 41, 52, 39], [1, 11, 215, 160, 4, 17, 7, 132, 2, 26, 199], [5, 7, 9, 11, 17, 2, 246, 5], [2, 26, 67, 8, 4, 11, 17, 5, 7, 9, 162], [1, 11, 47, 4, 17, 7, 187, 2, 26, 117, 74], [4, 11, 17, 7, 76, 5, 84, 11, 179, 104, 218], [2, 26, 237, 1, 8, 4, 11, 17, 5, 7, 56, 81, 157], [5, 7, 91, 82, 11, 17, 2, 41, 71, 21, 28, 5], [1, 11, 47, 4, 17, 7, 83, 2, 38, 10, 285, 28, 191, 36], [4, 11, 17, 7, 9, 276, 5, 84, 1, 172, 98, 11], [2, 26, 273, 142, 4, 11, 17, 5, 219, 75, 59, 16, 55], [1, 11, 215, 160, 4, 17, 7, 211, 2, 26, 27, 108], [5, 7, 9, 20, 9, 11, 17, 2, 26, 67, 128], [2, 26, 103, 8, 4, 11, 17, 5, 7, 76], [1, 11, 47, 4, 17, 7, 286, 2, 26, 117, 74], [4, 11, 17, 7, 82, 5, 84, 1, 83, 139, 81, 78], [2, 26, 199, 160, 4, 11, 17, 5, 7, 56, 81, 157], [5, 7, 9, 132, 11, 17, 2, 38, 10, 37, 112, 8, 5], [167, 13, 72, 20, 63], [5, 194, 140, 9], [10, 56, 1], [66, 35], [88, 8, 31], [130, 106, 10, 30], [73, 11, 17, 52], [20], [5], [158, 134, 4], [43, 2, 284], [10, 74], [38, 37, 36], [10, 1, 40], [245, 32, 262], [248], [89, 33, 40], [48, 50], [224, 65], [35, 38, 37, 184], [32, 43], [10, 167], [38, 41, 115], [54, 169], [262, 2, 284], [89, 65], [10, 58, 21, 10, 66], [205], [61], [99, 43], [288, 61, 11, 17], [2, 179, 5], [202, 1, 93, 111], [178, 58], [96, 8, 16, 31], [61, 175, 28, 1, 63], [36, 102, 48], [178, 179, 9], [108, 5], [58, 11, 17], [67, 97], [98, 35], [101, 65], [62], [75, 16, 55], [51], [46, 57], [56, 81, 157], [187, 13], [97, 31], [1, 40, 11, 17, 52], [247, 61], [145, 96, 8, 4], [67, 108, 5], [83, 27, 81, 208], [75, 59, 16, 55], [11, 17], [1, 11, 17, 118, 201, 3, 152, 125, 46, 88, 8, 1, 31], [1, 20, 4, 11, 17, 7, 66, 5, 3, 1, 11, 274, 166, 29, 10, 30, 12, 77], [4, 11, 17, 7, 91, 72, 20, 63, 5, 234, 235, 140, 99, 9, 147, 293, 106, 10, 95, 4, 13], [66, 35, 11, 17, 5, 194, 140, 99, 9, 147, 295, 20, 70, 277, 195, 63, 3, 95, 9, 36, 164], [2, 41, 223, 115, 144, 88, 27, 9, 31, 278, 4, 11, 17, 7, 66, 3, 2, 158, 134, 5], [1, 11, 17, 118, 3, 92, 87, 19, 291, 27, 256, 1, 206, 153, 10, 37, 134, 47, 4, 164, 116], [4, 11, 17, 7, 9, 5, 186, 3, 1, 11, 5, 7, 264, 199, 47, 4, 13], [67, 166, 11, 17, 5, 234, 235, 140, 9, 147, 242, 3, 92, 87, 19, 104, 261, 141, 72, 20, 63], [1, 73, 11, 17, 2, 41, 52, 275, 5, 7, 130, 3, 186, 176, 277, 1, 3, 20, 4, 13], [2, 246, 66, 4, 11, 17, 7, 5, 7, 145, 3, 1, 11, 5, 216, 274, 66, 106, 10, 72, 195, 63, 103, 4, 13], [1, 11, 17, 7, 21, 32, 10, 1, 40, 35, 5, 123, 1, 93, 143, 21, 151, 24, 107, 36, 161, 25, 151], [10, 74, 8, 4, 11, 17, 32, 156, 33, 40, 3, 152, 1, 40, 11, 2, 48, 50, 28, 1, 64], [4, 11, 17, 7, 99, 43, 32, 10, 1, 73, 21, 32, 107, 10, 1, 40, 2, 243, 30, 5, 12, 77, 100, 28, 9, 279], [1, 11, 17, 7, 54, 21, 71, 197, 5, 202, 32, 93, 21, 151, 24, 36, 161, 2, 48, 50, 47, 4, 164], [4, 11, 17, 7, 89, 33, 40, 5, 178, 170, 21, 151, 24, 107, 36, 25, 151, 28, 1, 64, 10, 56, 1], [1, 11, 17, 7, 156, 32, 10, 66, 21, 32, 10, 58, 244, 2, 243, 25, 20, 16, 208, 12, 30, 5, 12, 77], [2, 48, 50, 47, 4, 11, 17, 32, 54, 21, 71, 12, 142, 2, 107, 37, 47, 4, 164], [1, 11, 17, 7, 43, 5, 123, 1, 93, 143, 21, 2, 41, 107, 39, 36, 27, 1, 2, 48, 50, 47, 4, 13], [4, 11, 17, 7, 248, 32, 10, 1, 73, 21, 32, 10, 1, 40, 244, 2, 48, 50, 47, 9, 164, 8, 9, 61], [1, 11, 17, 7, 89, 5, 170, 21, 151, 24, 107, 36, 161, 103, 1, 188, 2, 29, 28, 9, 226, 35, 279], [1, 11, 17, 7, 58, 5, 216, 217, 11, 3, 7, 105, 12, 70, 2, 80, 37, 112, 8, 16, 31], [2, 67, 108, 4, 11, 17, 5, 84, 1, 83, 139, 81, 78, 3, 7, 9, 12, 16, 62, 30, 5], [4, 11, 17, 7, 97, 32, 105, 12, 70, 3, 192, 3, 1, 11, 5, 216, 7, 217, 2, 26, 128, 8, 16, 31], [2, 26, 144, 96, 8, 4, 11, 17, 5, 84, 11, 280, 3, 1, 281, 7, 177, 2, 29, 30, 5, 12, 77, 27, 1, 188, 28, 9, 279], [4, 11, 17, 7, 98, 32, 84, 11, 280, 3, 1, 281, 7, 2, 26, 117, 57, 8, 16, 31], [1, 11, 17, 7, 101, 5, 84, 1, 83, 139, 81, 78, 3, 7, 9, 12, 192, 2, 26, 144, 96, 8, 4, 31], [2, 246, 169, 61, 142, 4, 11, 17, 5, 84, 217, 11, 3, 7, 145, 105, 12, 70, 2, 29, 173, 5, 50, 102, 196, 165, 2, 38], [4, 11, 17, 7, 82, 5, 216, 1, 40, 11, 68, 52, 39, 3, 7, 144, 12, 2, 26, 128, 8, 16, 31], [2, 26, 67, 27, 108, 8, 4, 11, 17, 5, 84, 1, 83, 139, 81, 78, 3, 7, 9, 12, 70, 2, 80, 37, 112, 8, 16, 31], [1, 11, 17, 7, 187, 5, 84, 11, 280, 3, 1, 281, 7, 25, 20, 4, 2, 29, 62, 30, 5, 12, 77, 27, 1, 188, 28, 9, 279], [4, 11, 17, 7, 76, 32, 105, 12, 70, 84, 217, 11, 3, 7, 9, 12, 16, 2, 26, 117, 57, 8, 16, 31], [1, 11, 17, 7, 132, 5, 84, 11, 280, 3, 1, 281, 7, 272, 2, 26, 144, 96, 8, 4, 31], [2, 26, 67, 199, 160, 4, 11, 17, 5, 1, 83, 139, 20, 11, 81, 78, 3, 7, 9, 12, 70, 2, 29, 173, 5, 50, 102, 196, 165, 2, 38], [4, 11, 17, 7, 9, 276, 5, 84, 1, 172, 217, 11, 3, 7, 145, 12, 70, 2, 26, 237, 1, 8, 16, 31], [2, 26, 237, 27, 108, 8, 4, 11, 17, 5, 84, 1, 83, 139, 81, 78, 3, 7, 9, 12, 16, 2, 80, 37, 112, 8, 5], [1, 11, 17, 7, 9, 162, 5, 84, 1, 40, 11, 68, 52, 39, 3, 7, 144, 105, 12, 70, 2, 29, 30, 5, 12, 77, 27, 9], [4, 11, 17, 7, 132, 5, 84, 1, 83, 139, 81, 78, 3, 7, 9, 12, 70, 2, 26, 117, 57, 8, 16, 31], [4, 18, 23, 7, 66, 5, 220, 129, 136, 221], [2, 158, 134, 4, 18, 23, 5, 234, 235, 140, 9], [73, 18, 23, 2, 41, 52, 114, 32, 236, 3, 152, 192, 111], [4, 18, 23, 7, 9, 72, 20, 63, 287, 95, 5], [67, 166, 18, 23, 5, 194, 242, 20, 70], [66, 85, 86, 2, 39, 12, 237, 1], [2, 4, 18, 23, 32, 282, 3, 12, 283], [4, 18, 23, 7, 5, 152, 238, 129, 191], [241, 18, 23, 5, 186, 123, 239], [1, 73, 18, 23, 68, 52, 275, 32, 9, 141], [2, 26, 10, 74, 8, 4, 18, 23, 5, 152, 192, 53, 111, 53, 2, 48], [224, 65, 1, 85, 86, 7, 193], [4, 18, 23, 7, 43, 21, 5, 38, 37, 36], [10, 1, 40, 18, 23, 25, 151, 5, 219, 32], [32, 10, 56, 1, 64, 151, 24, 36, 161], [4, 18, 23, 7, 156, 33, 40, 32, 99, 89], [2, 48, 50, 47, 4, 18, 23, 21, 5], [10, 51, 57, 8, 4, 18, 23, 32, 99, 89], [32, 10, 53, 61, 53, 2, 39, 154, 2, 48, 36, 65], [2, 243, 30, 4, 18, 23, 151, 24, 36, 103, 1, 188], [54, 18, 23, 28, 1, 64, 5, 123, 1, 93, 143], [32, 10, 1, 73, 18, 23, 21, 32, 10, 1, 40, 244], [4, 18, 23, 7, 21, 5, 38, 37, 184], [89, 65, 71, 197, 142, 4, 18, 23], [32, 9, 54, 18, 23, 21, 5, 219, 32], [10, 167, 28, 1, 64, 4, 18, 23, 202, 1, 93], [4, 18, 23, 7, 205, 21, 2, 48, 50], [32, 262, 10, 1, 18, 23, 68, 114], [38, 37, 36, 4, 18, 23, 219, 28], [91, 43, 18, 23, 21, 5, 219, 32], [2, 108, 4, 18, 23, 5, 178, 179, 9], [40, 18, 23, 68, 52, 275, 62, 30, 5], [131, 85, 86, 4, 18, 23, 123, 1, 93, 143], [4, 18, 23, 75, 16, 55, 32, 97], [58, 175, 28, 1, 64, 4, 18, 23, 7, 98], [101, 65, 4, 18, 23, 7, 9, 162], [62, 57, 8, 4, 18, 23, 32, 56, 81, 157], [80, 37, 112, 8, 4, 18, 23, 32, 131], [97, 13, 4, 18, 23, 7, 9], [2, 26, 128, 8, 4, 18, 23, 32, 82], [51, 74, 8, 4, 18, 23, 32, 83], [98, 65, 4, 18, 23, 7, 9, 162], [4, 18, 23, 7, 5, 75, 16, 55], [82, 85, 86, 4, 18, 23, 7, 1, 40], [35, 4, 18, 23, 7, 56, 81, 157], [76, 13, 4, 18, 23, 7, 9, 276], [4, 18, 23, 7, 2, 80, 285, 28, 50], [67, 97, 4, 18, 23, 7, 9, 162], [2, 26, 46, 96, 8, 4, 18, 23, 32, 83], [4, 18, 23, 7, 132, 32, 1, 40, 68, 52, 114], [4, 18, 23, 7, 9, 162, 32, 9], [76, 35, 4, 18, 23, 7, 101], [2, 26, 117, 74, 8, 4, 18, 23, 32, 82], [65, 4, 18, 23, 7, 1, 40], [85, 86, 4, 18, 23, 7, 9, 276], [67, 211, 4, 18, 23, 7, 56, 81, 157], [187, 13, 4, 18, 23, 7, 9, 162], [2, 26, 27, 108, 8, 4, 18, 23, 32, 83, 27, 81, 208], [4, 18, 23, 7, 82, 2, 80, 37, 112], [1, 40, 18, 23, 68, 52, 114, 32, 132], [178, 58], [78], [108, 5], [66, 13], [202, 1, 93, 111], [67, 166], [98, 18], [73, 31, 52], [10, 56, 5], [144, 163], [224], [62], [], [99, 171, 2], [264, 199], [105, 12, 70], [141], [10, 167], [131, 85, 86], [4, 18, 23, 7, 1, 73, 31, 2, 41, 52, 130, 5, 220, 129, 136, 221, 3, 186, 123, 239, 2, 158, 134, 5], [2, 26, 46, 88, 8, 4, 18, 23, 5, 234, 235, 140, 99, 9, 147, 293, 3, 1, 92, 87, 19, 291, 106, 10, 95], [1, 85, 86, 103, 4, 18, 23, 7, 66, 5, 152, 238, 129, 191, 3, 2, 41, 12, 237, 1, 72, 20, 63], [2, 29, 173, 4, 18, 23, 9, 165, 2, 38, 5, 7, 130, 3, 106, 10, 72, 195, 63, 103, 4, 13], [277, 1, 3, 4, 18, 23, 33, 59, 5, 7, 236, 282, 3, 152, 192, 111, 2, 26, 46, 250, 8, 4, 31], [4, 18, 23, 7, 9, 141, 72, 20, 63, 5, 152, 238, 129, 191, 3, 1, 7, 46, 2, 62, 30, 100, 28, 9, 18], [2, 41, 39, 71, 21, 8, 4, 18, 23, 2, 5, 5, 186, 123, 239, 3, 1, 85, 86, 7, 193, 2, 29, 10, 30, 4, 13, 12, 77], [106, 10, 95, 4, 18, 23, 5, 7, 9, 240, 1, 85, 86, 7, 193, 3, 32, 12, 283, 277, 1, 3, 9, 164], [2, 158, 299, 4, 18, 23, 5, 7, 236, 282, 3, 152, 192, 111, 2, 29, 10, 30, 4, 13, 12, 77, 100, 28, 9, 124, 18, 23], [2, 26, 46, 250, 8, 4, 18, 23, 5, 7, 130, 3, 1, 85, 86, 7, 193, 2, 158, 134, 5, 3, 2, 39, 27, 9, 226, 35, 13], [4, 18, 23, 7, 10, 1, 73, 2, 41, 52, 114, 5, 7, 258, 47, 1, 85, 86, 7, 193, 3, 5, 123, 239, 2, 29, 10, 30, 4, 13], [2, 26, 10, 128, 8, 4, 18, 23, 5, 152, 192, 53, 111, 53, 2, 39, 154, 3, 1, 7, 10, 51, 2, 29, 100, 33, 218, 161, 278, 299, 4, 13], [2, 41, 39, 36, 8, 218, 18, 4, 7, 99, 156, 1, 85, 86, 7, 54, 21, 10, 58, 2, 29, 10, 31, 4, 13, 116], [2, 48, 50, 47, 4, 18, 23, 1, 85, 86, 7, 193, 3, 5, 12, 238, 129, 222, 2, 29, 30, 100, 28, 9, 50, 163, 267], [4, 18, 23, 7, 99, 43, 5, 123, 1, 93, 143, 21, 32, 10, 51, 127, 2, 29, 255, 218, 161, 278, 103, 4, 13], [2, 26, 10, 74, 8, 4, 18, 23, 1, 85, 86, 7, 3, 5, 12, 181, 239, 2, 29, 28, 9, 50, 124, 267], [4, 18, 23, 7, 10, 1, 73, 2, 41, 114, 21, 5, 7, 258, 47, 1, 40, 1, 85, 86, 7, 156, 3, 5, 8, 2, 29, 30, 100, 33, 218, 161], [2, 26, 10, 57, 8, 4, 18, 23, 5, 7, 236, 282, 3, 12, 283, 2, 29, 10, 30, 4, 13, 12, 77, 100, 28, 9, 124, 18], [2, 48, 50, 47, 4, 18, 23, 1, 85, 86, 7, 193, 3, 5, 12, 238, 129, 222, 2, 29, 30, 100, 28, 9, 50, 163, 267], [4, 18, 23, 7, 99, 43, 5, 123, 1, 93, 143, 21, 32, 10, 51, 127, 2, 29, 255, 218, 161, 278, 103, 4, 13], [4, 18, 23, 75, 16, 55, 1, 85, 86, 7, 3, 5, 220, 129, 221, 3, 222, 8, 2, 62, 30, 4, 13, 12, 77, 27, 1, 188, 28, 9, 18], [2, 26, 46, 74, 8, 4, 18, 23, 5, 7, 163, 3, 105, 12, 283, 2, 29, 62, 30, 4, 13, 12, 77, 100, 28, 9, 124, 18], [4, 18, 23, 7, 9, 162, 1, 85, 86, 7, 272, 3, 5, 220, 129, 221, 3, 222, 2, 26, 117, 57, 8, 4, 13, 3, 29, 30, 5, 12, 77], [2, 26, 46, 96, 8, 16, 31, 20, 4, 18, 23, 5, 7, 127, 163, 3, 105, 12, 70, 2, 29, 30, 4, 13, 12, 77, 27, 20, 9, 124, 18], [2, 41, 115, 4, 18, 23, 28, 9, 147, 295, 3, 2, 26, 74, 8, 32, 65, 1, 85, 86, 7, 3, 5, 220, 129, 221, 3, 222, 2, 29, 62, 30, 4, 13], [4, 18, 23, 219, 75, 16, 55, 5, 7, 163, 127, 3, 105, 12, 70, 2, 29, 30, 4, 13, 12, 77, 27, 20, 9, 124, 18, 23], [2, 26, 46, 57, 8, 4, 18, 23, 1, 85, 86, 7, 131, 3, 5, 220, 129, 221, 3, 222, 2, 29, 30, 4, 13, 12, 77, 27, 20, 9, 18, 23], [4, 18, 23, 7, 9, 162, 5, 7, 163, 127, 3, 105, 12, 70, 2, 29, 62, 30, 4, 13, 12, 77, 100, 28, 9, 124, 18, 23], [2, 41, 39, 9, 58, 200, 8, 4, 18, 23, 5, 7, 163, 127, 3, 105, 12, 70, 2, 29, 30, 4, 13, 12, 77, 100, 28, 9, 124, 18, 23], [2, 26, 46, 96, 8, 16, 31, 20, 4, 18, 23, 5, 7, 163, 127, 3, 105, 12, 70, 2, 29, 62, 30, 4, 13, 12, 77, 27, 20, 9, 124, 18, 23]]\n"
          ]
        }
      ]
    },
    {
      "cell_type": "code",
      "source": [
        "x = sequences\n",
        "y = df['sentiment']\n",
        "y = df['sentiment'].map({'positive': 0, 'negative': 1}).values\n",
        "\n",
        "from sklearn.model_selection import train_test_split\n",
        "\n",
        "x_train, x_test, y_train, y_test = train_test_split(\n",
        "    x, y, test_size=0.33, random_state=42)"
      ],
      "metadata": {
        "id": "r600kaJTCHa0"
      },
      "execution_count": 14,
      "outputs": []
    },
    {
      "cell_type": "code",
      "source": [
        "from tensorflow.keras.models import Sequential\n",
        "from tensorflow.keras.layers import Dense, Embedding, GlobalAveragePooling1D\n",
        "from tensorflow.keras.preprocessing.sequence import pad_sequences\n",
        "max_length = 256\n",
        "vocab_size = 10000\n",
        "# Build the model\n",
        "model = Sequential([\n",
        "    Embedding(vocab_size, 16, input_length=max_length),\n",
        "    GlobalAveragePooling1D(),\n",
        "    Dense(16, activation='relu'),\n",
        "    #Dense(8, activation='relu'),\n",
        "    Dense(1, activation='sigmoid')\n",
        "])\n",
        "\n",
        "# Compile the model\n",
        "model.compile(optimizer='adam',\n",
        "              loss='binary_crossentropy',\n",
        "              metrics=['accuracy'])\n",
        "\n",
        "# Model summary\n",
        "model.summary()"
      ],
      "metadata": {
        "colab": {
          "base_uri": "https://localhost:8080/"
        },
        "id": "xBCX0dZECow4",
        "outputId": "416a2e71-4109-4038-aed9-df4f46cc6fff"
      },
      "execution_count": 17,
      "outputs": [
        {
          "output_type": "stream",
          "name": "stdout",
          "text": [
            "Model: \"sequential\"\n",
            "_________________________________________________________________\n",
            " Layer (type)                Output Shape              Param #   \n",
            "=================================================================\n",
            " embedding (Embedding)       (None, 256, 16)           160000    \n",
            "                                                                 \n",
            " global_average_pooling1d (  (None, 16)                0         \n",
            " GlobalAveragePooling1D)                                         \n",
            "                                                                 \n",
            " dense (Dense)               (None, 16)                272       \n",
            "                                                                 \n",
            " dense_1 (Dense)             (None, 1)                 17        \n",
            "                                                                 \n",
            "=================================================================\n",
            "Total params: 160289 (626.13 KB)\n",
            "Trainable params: 160289 (626.13 KB)\n",
            "Non-trainable params: 0 (0.00 Byte)\n",
            "_________________________________________________________________\n"
          ]
        }
      ]
    },
    {
      "cell_type": "code",
      "source": [
        "x_train = pad_sequences(x_train, maxlen=max_length, padding='post', truncating='post')\n",
        "x_test = pad_sequences(x_test, maxlen=max_length, padding='post', truncating='post')"
      ],
      "metadata": {
        "id": "Krvk_HrUHPAV"
      },
      "execution_count": 18,
      "outputs": []
    },
    {
      "cell_type": "code",
      "source": [
        "# Train the model\n",
        "epochs = 100\n",
        "history = model.fit(x_train, y_train,\n",
        "                    epochs=epochs,\n",
        "                    validation_data=(x_test, y_test),\n",
        "                    verbose=2)"
      ],
      "metadata": {
        "colab": {
          "base_uri": "https://localhost:8080/"
        },
        "id": "lj5WDLUUHkjE",
        "outputId": "20b3ba59-6095-4a81-f586-e36929bd8d47"
      },
      "execution_count": 20,
      "outputs": [
        {
          "output_type": "stream",
          "name": "stdout",
          "text": [
            "Epoch 1/100\n",
            "13/13 - 0s - loss: 0.6887 - accuracy: 0.6748 - val_loss: 0.6889 - val_accuracy: 0.8235 - 182ms/epoch - 14ms/step\n",
            "Epoch 2/100\n",
            "13/13 - 0s - loss: 0.6875 - accuracy: 0.7403 - val_loss: 0.6879 - val_accuracy: 0.8382 - 103ms/epoch - 8ms/step\n",
            "Epoch 3/100\n",
            "13/13 - 0s - loss: 0.6867 - accuracy: 0.6578 - val_loss: 0.6849 - val_accuracy: 0.6618 - 96ms/epoch - 7ms/step\n",
            "Epoch 4/100\n",
            "13/13 - 0s - loss: 0.6842 - accuracy: 0.7694 - val_loss: 0.6857 - val_accuracy: 0.7206 - 104ms/epoch - 8ms/step\n",
            "Epoch 5/100\n",
            "13/13 - 0s - loss: 0.6824 - accuracy: 0.8131 - val_loss: 0.6826 - val_accuracy: 0.7304 - 105ms/epoch - 8ms/step\n",
            "Epoch 6/100\n",
            "13/13 - 0s - loss: 0.6798 - accuracy: 0.7379 - val_loss: 0.6806 - val_accuracy: 0.7794 - 104ms/epoch - 8ms/step\n",
            "Epoch 7/100\n",
            "13/13 - 0s - loss: 0.6785 - accuracy: 0.7476 - val_loss: 0.6789 - val_accuracy: 0.8480 - 110ms/epoch - 8ms/step\n",
            "Epoch 8/100\n",
            "13/13 - 0s - loss: 0.6741 - accuracy: 0.7379 - val_loss: 0.6746 - val_accuracy: 0.6961 - 99ms/epoch - 8ms/step\n",
            "Epoch 9/100\n",
            "13/13 - 0s - loss: 0.6706 - accuracy: 0.6990 - val_loss: 0.6706 - val_accuracy: 0.6912 - 372ms/epoch - 29ms/step\n",
            "Epoch 10/100\n",
            "13/13 - 0s - loss: 0.6662 - accuracy: 0.7282 - val_loss: 0.6693 - val_accuracy: 0.8382 - 219ms/epoch - 17ms/step\n",
            "Epoch 11/100\n",
            "13/13 - 0s - loss: 0.6625 - accuracy: 0.8155 - val_loss: 0.6661 - val_accuracy: 0.8431 - 100ms/epoch - 8ms/step\n",
            "Epoch 12/100\n",
            "13/13 - 0s - loss: 0.6569 - accuracy: 0.7718 - val_loss: 0.6579 - val_accuracy: 0.6961 - 177ms/epoch - 14ms/step\n",
            "Epoch 13/100\n",
            "13/13 - 0s - loss: 0.6520 - accuracy: 0.7937 - val_loss: 0.6571 - val_accuracy: 0.8431 - 185ms/epoch - 14ms/step\n",
            "Epoch 14/100\n",
            "13/13 - 0s - loss: 0.6445 - accuracy: 0.8859 - val_loss: 0.6500 - val_accuracy: 0.8333 - 146ms/epoch - 11ms/step\n",
            "Epoch 15/100\n",
            "13/13 - 0s - loss: 0.6383 - accuracy: 0.7427 - val_loss: 0.6430 - val_accuracy: 0.7941 - 140ms/epoch - 11ms/step\n",
            "Epoch 16/100\n",
            "13/13 - 0s - loss: 0.6300 - accuracy: 0.8131 - val_loss: 0.6394 - val_accuracy: 0.8431 - 161ms/epoch - 12ms/step\n",
            "Epoch 17/100\n",
            "13/13 - 0s - loss: 0.6222 - accuracy: 0.8932 - val_loss: 0.6316 - val_accuracy: 0.8529 - 157ms/epoch - 12ms/step\n",
            "Epoch 18/100\n",
            "13/13 - 0s - loss: 0.6129 - accuracy: 0.8641 - val_loss: 0.6220 - val_accuracy: 0.8137 - 150ms/epoch - 12ms/step\n",
            "Epoch 19/100\n",
            "13/13 - 0s - loss: 0.6042 - accuracy: 0.8204 - val_loss: 0.6151 - val_accuracy: 0.8333 - 139ms/epoch - 11ms/step\n",
            "Epoch 20/100\n",
            "13/13 - 0s - loss: 0.5945 - accuracy: 0.8883 - val_loss: 0.6082 - val_accuracy: 0.8627 - 191ms/epoch - 15ms/step\n",
            "Epoch 21/100\n",
            "13/13 - 0s - loss: 0.5855 - accuracy: 0.8689 - val_loss: 0.6000 - val_accuracy: 0.8627 - 156ms/epoch - 12ms/step\n",
            "Epoch 22/100\n",
            "13/13 - 0s - loss: 0.5772 - accuracy: 0.8010 - val_loss: 0.5917 - val_accuracy: 0.8627 - 204ms/epoch - 16ms/step\n",
            "Epoch 23/100\n",
            "13/13 - 0s - loss: 0.5637 - accuracy: 0.8859 - val_loss: 0.5829 - val_accuracy: 0.8578 - 208ms/epoch - 16ms/step\n",
            "Epoch 24/100\n",
            "13/13 - 0s - loss: 0.5543 - accuracy: 0.8738 - val_loss: 0.5735 - val_accuracy: 0.8578 - 154ms/epoch - 12ms/step\n",
            "Epoch 25/100\n",
            "13/13 - 0s - loss: 0.5435 - accuracy: 0.8689 - val_loss: 0.5644 - val_accuracy: 0.8578 - 197ms/epoch - 15ms/step\n",
            "Epoch 26/100\n",
            "13/13 - 0s - loss: 0.5297 - accuracy: 0.8859 - val_loss: 0.5543 - val_accuracy: 0.8627 - 200ms/epoch - 15ms/step\n",
            "Epoch 27/100\n",
            "13/13 - 0s - loss: 0.5183 - accuracy: 0.8981 - val_loss: 0.5453 - val_accuracy: 0.8627 - 204ms/epoch - 16ms/step\n",
            "Epoch 28/100\n",
            "13/13 - 0s - loss: 0.5062 - accuracy: 0.9029 - val_loss: 0.5358 - val_accuracy: 0.8676 - 160ms/epoch - 12ms/step\n",
            "Epoch 29/100\n",
            "13/13 - 0s - loss: 0.4946 - accuracy: 0.9005 - val_loss: 0.5283 - val_accuracy: 0.8431 - 107ms/epoch - 8ms/step\n",
            "Epoch 30/100\n",
            "13/13 - 0s - loss: 0.4848 - accuracy: 0.9005 - val_loss: 0.5206 - val_accuracy: 0.8627 - 108ms/epoch - 8ms/step\n",
            "Epoch 31/100\n",
            "13/13 - 0s - loss: 0.4752 - accuracy: 0.8883 - val_loss: 0.5102 - val_accuracy: 0.8480 - 96ms/epoch - 7ms/step\n",
            "Epoch 32/100\n",
            "13/13 - 0s - loss: 0.4638 - accuracy: 0.8811 - val_loss: 0.4992 - val_accuracy: 0.8627 - 102ms/epoch - 8ms/step\n",
            "Epoch 33/100\n",
            "13/13 - 0s - loss: 0.4526 - accuracy: 0.9005 - val_loss: 0.4962 - val_accuracy: 0.8578 - 98ms/epoch - 8ms/step\n",
            "Epoch 34/100\n",
            "13/13 - 0s - loss: 0.4403 - accuracy: 0.9199 - val_loss: 0.4862 - val_accuracy: 0.8725 - 113ms/epoch - 9ms/step\n",
            "Epoch 35/100\n",
            "13/13 - 0s - loss: 0.4308 - accuracy: 0.9053 - val_loss: 0.4737 - val_accuracy: 0.8676 - 104ms/epoch - 8ms/step\n",
            "Epoch 36/100\n",
            "13/13 - 0s - loss: 0.4209 - accuracy: 0.9029 - val_loss: 0.4733 - val_accuracy: 0.8627 - 113ms/epoch - 9ms/step\n",
            "Epoch 37/100\n",
            "13/13 - 0s - loss: 0.4117 - accuracy: 0.9029 - val_loss: 0.4591 - val_accuracy: 0.8627 - 91ms/epoch - 7ms/step\n",
            "Epoch 38/100\n",
            "13/13 - 0s - loss: 0.4036 - accuracy: 0.9053 - val_loss: 0.4613 - val_accuracy: 0.8529 - 103ms/epoch - 8ms/step\n",
            "Epoch 39/100\n",
            "13/13 - 0s - loss: 0.3995 - accuracy: 0.8835 - val_loss: 0.4458 - val_accuracy: 0.8627 - 107ms/epoch - 8ms/step\n",
            "Epoch 40/100\n",
            "13/13 - 0s - loss: 0.3868 - accuracy: 0.9078 - val_loss: 0.4382 - val_accuracy: 0.8578 - 99ms/epoch - 8ms/step\n",
            "Epoch 41/100\n",
            "13/13 - 0s - loss: 0.3751 - accuracy: 0.9199 - val_loss: 0.4340 - val_accuracy: 0.8725 - 99ms/epoch - 8ms/step\n",
            "Epoch 42/100\n",
            "13/13 - 0s - loss: 0.3671 - accuracy: 0.9199 - val_loss: 0.4339 - val_accuracy: 0.8578 - 103ms/epoch - 8ms/step\n",
            "Epoch 43/100\n",
            "13/13 - 0s - loss: 0.3631 - accuracy: 0.9005 - val_loss: 0.4167 - val_accuracy: 0.8725 - 95ms/epoch - 7ms/step\n",
            "Epoch 44/100\n",
            "13/13 - 0s - loss: 0.3511 - accuracy: 0.9369 - val_loss: 0.4136 - val_accuracy: 0.8775 - 93ms/epoch - 7ms/step\n",
            "Epoch 45/100\n",
            "13/13 - 0s - loss: 0.3451 - accuracy: 0.9175 - val_loss: 0.4179 - val_accuracy: 0.8578 - 102ms/epoch - 8ms/step\n",
            "Epoch 46/100\n",
            "13/13 - 0s - loss: 0.3397 - accuracy: 0.9175 - val_loss: 0.3971 - val_accuracy: 0.8971 - 109ms/epoch - 8ms/step\n",
            "Epoch 47/100\n",
            "13/13 - 0s - loss: 0.3346 - accuracy: 0.9272 - val_loss: 0.3978 - val_accuracy: 0.8775 - 94ms/epoch - 7ms/step\n",
            "Epoch 48/100\n",
            "13/13 - 0s - loss: 0.3237 - accuracy: 0.9272 - val_loss: 0.3953 - val_accuracy: 0.8775 - 93ms/epoch - 7ms/step\n",
            "Epoch 49/100\n",
            "13/13 - 0s - loss: 0.3162 - accuracy: 0.9272 - val_loss: 0.3870 - val_accuracy: 0.8775 - 100ms/epoch - 8ms/step\n",
            "Epoch 50/100\n",
            "13/13 - 0s - loss: 0.3098 - accuracy: 0.9369 - val_loss: 0.3850 - val_accuracy: 0.8775 - 97ms/epoch - 7ms/step\n",
            "Epoch 51/100\n",
            "13/13 - 0s - loss: 0.3045 - accuracy: 0.9345 - val_loss: 0.3748 - val_accuracy: 0.8627 - 100ms/epoch - 8ms/step\n",
            "Epoch 52/100\n",
            "13/13 - 0s - loss: 0.2988 - accuracy: 0.9442 - val_loss: 0.3723 - val_accuracy: 0.8824 - 104ms/epoch - 8ms/step\n",
            "Epoch 53/100\n",
            "13/13 - 0s - loss: 0.2929 - accuracy: 0.9272 - val_loss: 0.3658 - val_accuracy: 0.8725 - 106ms/epoch - 8ms/step\n",
            "Epoch 54/100\n",
            "13/13 - 0s - loss: 0.2892 - accuracy: 0.9320 - val_loss: 0.3669 - val_accuracy: 0.8775 - 98ms/epoch - 8ms/step\n",
            "Epoch 55/100\n",
            "13/13 - 0s - loss: 0.2815 - accuracy: 0.9417 - val_loss: 0.3551 - val_accuracy: 0.8725 - 144ms/epoch - 11ms/step\n",
            "Epoch 56/100\n",
            "13/13 - 0s - loss: 0.2793 - accuracy: 0.9272 - val_loss: 0.3752 - val_accuracy: 0.8431 - 102ms/epoch - 8ms/step\n",
            "Epoch 57/100\n",
            "13/13 - 0s - loss: 0.2756 - accuracy: 0.9296 - val_loss: 0.3541 - val_accuracy: 0.8775 - 97ms/epoch - 7ms/step\n",
            "Epoch 58/100\n",
            "13/13 - 0s - loss: 0.2687 - accuracy: 0.9345 - val_loss: 0.3482 - val_accuracy: 0.8775 - 98ms/epoch - 8ms/step\n",
            "Epoch 59/100\n",
            "13/13 - 0s - loss: 0.2621 - accuracy: 0.9442 - val_loss: 0.3478 - val_accuracy: 0.8775 - 97ms/epoch - 7ms/step\n",
            "Epoch 60/100\n",
            "13/13 - 0s - loss: 0.2592 - accuracy: 0.9345 - val_loss: 0.3408 - val_accuracy: 0.8824 - 105ms/epoch - 8ms/step\n",
            "Epoch 61/100\n",
            "13/13 - 0s - loss: 0.2546 - accuracy: 0.9369 - val_loss: 0.3373 - val_accuracy: 0.8824 - 102ms/epoch - 8ms/step\n",
            "Epoch 62/100\n",
            "13/13 - 0s - loss: 0.2569 - accuracy: 0.9393 - val_loss: 0.3609 - val_accuracy: 0.8431 - 96ms/epoch - 7ms/step\n",
            "Epoch 63/100\n",
            "13/13 - 0s - loss: 0.2497 - accuracy: 0.9199 - val_loss: 0.3240 - val_accuracy: 0.8971 - 93ms/epoch - 7ms/step\n",
            "Epoch 64/100\n",
            "13/13 - 0s - loss: 0.2432 - accuracy: 0.9320 - val_loss: 0.3531 - val_accuracy: 0.8529 - 101ms/epoch - 8ms/step\n",
            "Epoch 65/100\n",
            "13/13 - 0s - loss: 0.2403 - accuracy: 0.9223 - val_loss: 0.3187 - val_accuracy: 0.8824 - 106ms/epoch - 8ms/step\n",
            "Epoch 66/100\n",
            "13/13 - 0s - loss: 0.2335 - accuracy: 0.9417 - val_loss: 0.3262 - val_accuracy: 0.8775 - 92ms/epoch - 7ms/step\n",
            "Epoch 67/100\n",
            "13/13 - 0s - loss: 0.2300 - accuracy: 0.9466 - val_loss: 0.3207 - val_accuracy: 0.8775 - 97ms/epoch - 7ms/step\n",
            "Epoch 68/100\n",
            "13/13 - 0s - loss: 0.2280 - accuracy: 0.9490 - val_loss: 0.3185 - val_accuracy: 0.8775 - 89ms/epoch - 7ms/step\n",
            "Epoch 69/100\n",
            "13/13 - 0s - loss: 0.2236 - accuracy: 0.9466 - val_loss: 0.3082 - val_accuracy: 0.8725 - 90ms/epoch - 7ms/step\n",
            "Epoch 70/100\n",
            "13/13 - 0s - loss: 0.2184 - accuracy: 0.9515 - val_loss: 0.3147 - val_accuracy: 0.8775 - 91ms/epoch - 7ms/step\n",
            "Epoch 71/100\n",
            "13/13 - 0s - loss: 0.2167 - accuracy: 0.9515 - val_loss: 0.3193 - val_accuracy: 0.8775 - 110ms/epoch - 8ms/step\n",
            "Epoch 72/100\n",
            "13/13 - 0s - loss: 0.2159 - accuracy: 0.9393 - val_loss: 0.3163 - val_accuracy: 0.8775 - 95ms/epoch - 7ms/step\n",
            "Epoch 73/100\n",
            "13/13 - 0s - loss: 0.2116 - accuracy: 0.9442 - val_loss: 0.2969 - val_accuracy: 0.8873 - 95ms/epoch - 7ms/step\n",
            "Epoch 74/100\n",
            "13/13 - 0s - loss: 0.2107 - accuracy: 0.9417 - val_loss: 0.3193 - val_accuracy: 0.8824 - 91ms/epoch - 7ms/step\n",
            "Epoch 75/100\n",
            "13/13 - 0s - loss: 0.2057 - accuracy: 0.9417 - val_loss: 0.2972 - val_accuracy: 0.8873 - 111ms/epoch - 9ms/step\n",
            "Epoch 76/100\n",
            "13/13 - 0s - loss: 0.2017 - accuracy: 0.9587 - val_loss: 0.3103 - val_accuracy: 0.8775 - 102ms/epoch - 8ms/step\n",
            "Epoch 77/100\n",
            "13/13 - 0s - loss: 0.2021 - accuracy: 0.9442 - val_loss: 0.2882 - val_accuracy: 0.8971 - 95ms/epoch - 7ms/step\n",
            "Epoch 78/100\n",
            "13/13 - 0s - loss: 0.1975 - accuracy: 0.9563 - val_loss: 0.2978 - val_accuracy: 0.8775 - 103ms/epoch - 8ms/step\n",
            "Epoch 79/100\n",
            "13/13 - 0s - loss: 0.1935 - accuracy: 0.9563 - val_loss: 0.2852 - val_accuracy: 0.8922 - 89ms/epoch - 7ms/step\n",
            "Epoch 80/100\n",
            "13/13 - 0s - loss: 0.1900 - accuracy: 0.9587 - val_loss: 0.2931 - val_accuracy: 0.8873 - 93ms/epoch - 7ms/step\n",
            "Epoch 81/100\n",
            "13/13 - 0s - loss: 0.1871 - accuracy: 0.9587 - val_loss: 0.2866 - val_accuracy: 0.8873 - 100ms/epoch - 8ms/step\n",
            "Epoch 82/100\n",
            "13/13 - 0s - loss: 0.1848 - accuracy: 0.9563 - val_loss: 0.2835 - val_accuracy: 0.8824 - 100ms/epoch - 8ms/step\n",
            "Epoch 83/100\n",
            "13/13 - 0s - loss: 0.1826 - accuracy: 0.9466 - val_loss: 0.2909 - val_accuracy: 0.8824 - 99ms/epoch - 8ms/step\n",
            "Epoch 84/100\n",
            "13/13 - 0s - loss: 0.1797 - accuracy: 0.9612 - val_loss: 0.2841 - val_accuracy: 0.8922 - 95ms/epoch - 7ms/step\n",
            "Epoch 85/100\n",
            "13/13 - 0s - loss: 0.1769 - accuracy: 0.9612 - val_loss: 0.2837 - val_accuracy: 0.8922 - 104ms/epoch - 8ms/step\n",
            "Epoch 86/100\n",
            "13/13 - 0s - loss: 0.1759 - accuracy: 0.9612 - val_loss: 0.2784 - val_accuracy: 0.8873 - 86ms/epoch - 7ms/step\n",
            "Epoch 87/100\n",
            "13/13 - 0s - loss: 0.1720 - accuracy: 0.9612 - val_loss: 0.2779 - val_accuracy: 0.8922 - 93ms/epoch - 7ms/step\n",
            "Epoch 88/100\n",
            "13/13 - 0s - loss: 0.1708 - accuracy: 0.9587 - val_loss: 0.2721 - val_accuracy: 0.8922 - 95ms/epoch - 7ms/step\n",
            "Epoch 89/100\n",
            "13/13 - 0s - loss: 0.1683 - accuracy: 0.9612 - val_loss: 0.2740 - val_accuracy: 0.8873 - 103ms/epoch - 8ms/step\n",
            "Epoch 90/100\n",
            "13/13 - 0s - loss: 0.1652 - accuracy: 0.9587 - val_loss: 0.2752 - val_accuracy: 0.8971 - 92ms/epoch - 7ms/step\n",
            "Epoch 91/100\n",
            "13/13 - 0s - loss: 0.1629 - accuracy: 0.9636 - val_loss: 0.2732 - val_accuracy: 0.8971 - 98ms/epoch - 8ms/step\n",
            "Epoch 92/100\n",
            "13/13 - 0s - loss: 0.1617 - accuracy: 0.9636 - val_loss: 0.2694 - val_accuracy: 0.8824 - 98ms/epoch - 8ms/step\n",
            "Epoch 93/100\n",
            "13/13 - 0s - loss: 0.1599 - accuracy: 0.9612 - val_loss: 0.2682 - val_accuracy: 0.8824 - 102ms/epoch - 8ms/step\n",
            "Epoch 94/100\n",
            "13/13 - 0s - loss: 0.1587 - accuracy: 0.9612 - val_loss: 0.2825 - val_accuracy: 0.8824 - 87ms/epoch - 7ms/step\n",
            "Epoch 95/100\n",
            "13/13 - 0s - loss: 0.1594 - accuracy: 0.9490 - val_loss: 0.2602 - val_accuracy: 0.8922 - 91ms/epoch - 7ms/step\n",
            "Epoch 96/100\n",
            "13/13 - 0s - loss: 0.1651 - accuracy: 0.9539 - val_loss: 0.2729 - val_accuracy: 0.8971 - 104ms/epoch - 8ms/step\n",
            "Epoch 97/100\n",
            "13/13 - 0s - loss: 0.1518 - accuracy: 0.9612 - val_loss: 0.2592 - val_accuracy: 0.8922 - 90ms/epoch - 7ms/step\n",
            "Epoch 98/100\n",
            "13/13 - 0s - loss: 0.1540 - accuracy: 0.9539 - val_loss: 0.2907 - val_accuracy: 0.8824 - 101ms/epoch - 8ms/step\n",
            "Epoch 99/100\n",
            "13/13 - 0s - loss: 0.1497 - accuracy: 0.9636 - val_loss: 0.2568 - val_accuracy: 0.8971 - 93ms/epoch - 7ms/step\n",
            "Epoch 100/100\n",
            "13/13 - 0s - loss: 0.1470 - accuracy: 0.9660 - val_loss: 0.2648 - val_accuracy: 0.8971 - 96ms/epoch - 7ms/step\n"
          ]
        }
      ]
    },
    {
      "cell_type": "code",
      "source": [],
      "metadata": {
        "id": "5eln3MHPHvAh"
      },
      "execution_count": null,
      "outputs": []
    }
  ]
}